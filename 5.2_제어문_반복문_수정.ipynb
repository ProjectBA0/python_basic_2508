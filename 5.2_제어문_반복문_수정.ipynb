{
 "cells": [
  {
   "cell_type": "markdown",
   "id": "2f4f98c9-abc4-4a56-b7f9-41c6ee53e93f",
   "metadata": {},
   "source": [
    "## 1. while문"
   ]
  },
  {
   "cell_type": "code",
   "execution_count": 1,
   "id": "adb9ff53-5596-4eb9-8589-fbf6edc87c91",
   "metadata": {},
   "outputs": [
    {
     "name": "stdout",
     "output_type": "stream",
     "text": [
      "나무를 1번 찍었습니다.\n",
      "나무를 2번 찍었습니다.\n",
      "나무를 3번 찍었습니다.\n",
      "나무를 4번 찍었습니다.\n",
      "나무를 5번 찍었습니다.\n",
      "나무를 6번 찍었습니다.\n",
      "나무를 7번 찍었습니다.\n",
      "나무를 8번 찍었습니다.\n",
      "나무를 9번 찍었습니다.\n",
      "나무를 10번 찍었습니다.\n",
      "나무 넘어갑니다.\n"
     ]
    }
   ],
   "source": [
    "treeHit = 0\n",
    "\n",
    "while treeHit<10:\n",
    "    treeHit += 1\n",
    "    print(\"나무를 %d번 찍었습니다.\" %treeHit )\n",
    "\n",
    "    if treeHit == 10:\n",
    "        print(\"나무 넘어갑니다.\")"
   ]
  },
  {
   "cell_type": "code",
   "execution_count": 2,
   "id": "d8aead97-4025-41d4-bb7c-528b201a4d82",
   "metadata": {},
   "outputs": [],
   "source": [
    "prompt =\"\"\"\n",
    "1.Add\n",
    "2.Del\n",
    "3.List\n",
    "4.Quit\n",
    "\n",
    "Enter number:\"\"\""
   ]
  },
  {
   "cell_type": "code",
   "execution_count": 3,
   "id": "85369784-9f2c-461c-ba86-e95abebd8bc1",
   "metadata": {},
   "outputs": [
    {
     "name": "stdout",
     "output_type": "stream",
     "text": [
      "\n",
      "1.Add\n",
      "2.Del\n",
      "3.List\n",
      "4.Quit\n",
      "\n",
      "Enter number:\n"
     ]
    },
    {
     "name": "stdin",
     "output_type": "stream",
     "text": [
      " 4\n"
     ]
    }
   ],
   "source": [
    "number=0\n",
    "while number !=4:\n",
    "    print(prompt)\n",
    "    number=int(input())"
   ]
  },
  {
   "cell_type": "code",
   "execution_count": 5,
   "id": "40ccddd0-28a5-4e78-b4f0-00e3a7a41f2e",
   "metadata": {},
   "outputs": [
    {
     "name": "stdout",
     "output_type": "stream",
     "text": [
      "돈을 받았으니 커피를 줍니다.\n",
      "남은 커피의 양은 9개입니다.\n",
      "돈을 받았으니 커피를 줍니다.\n",
      "남은 커피의 양은 8개입니다.\n",
      "돈을 받았으니 커피를 줍니다.\n",
      "남은 커피의 양은 7개입니다.\n",
      "돈을 받았으니 커피를 줍니다.\n",
      "남은 커피의 양은 6개입니다.\n",
      "돈을 받았으니 커피를 줍니다.\n",
      "남은 커피의 양은 5개입니다.\n",
      "돈을 받았으니 커피를 줍니다.\n",
      "남은 커피의 양은 4개입니다.\n",
      "돈을 받았으니 커피를 줍니다.\n",
      "남은 커피의 양은 3개입니다.\n",
      "돈을 받았으니 커피를 줍니다.\n",
      "남은 커피의 양은 2개입니다.\n",
      "돈을 받았으니 커피를 줍니다.\n",
      "남은 커피의 양은 1개입니다.\n",
      "돈을 받았으니 커피를 줍니다.\n",
      "남은 커피의 양은 0개입니다.\n",
      "커피가 다 떨어졌습니다. 판매를 중지합니다.\n"
     ]
    }
   ],
   "source": [
    "coffee =10\n",
    "money= 300\n",
    "while money:\n",
    "    print(\"돈을 받았으니 커피를 줍니다.\")\n",
    "    coffee-= 1\n",
    "    print(\"남은 커피의 양은 %d개입니다.\" % coffee)\n",
    "    if coffee == 0:\n",
    "        print(\"커피가 다 떨어졌습니다. 판매를 중지합니다.\")\n",
    "        break  #반복문 강제 종료"
   ]
  },
  {
   "cell_type": "code",
   "execution_count": 2,
   "id": "4df3803a-4d1f-48f6-a89a-877e65b0ca1b",
   "metadata": {},
   "outputs": [
    {
     "name": "stdin",
     "output_type": "stream",
     "text": [
      "돈을 넣어주세요:  5555\n"
     ]
    },
    {
     "name": "stdout",
     "output_type": "stream",
     "text": [
      "거스름돈 5255를 주고 커피를 줍니다.\n"
     ]
    },
    {
     "name": "stdin",
     "output_type": "stream",
     "text": [
      "돈을 넣어주세요:  30\n"
     ]
    },
    {
     "name": "stdout",
     "output_type": "stream",
     "text": [
      "돈을 다시 돌려주고 커피를 주지 않습니다.\n",
      "남은 커피의 양은 10개 입니다.\n"
     ]
    },
    {
     "name": "stdin",
     "output_type": "stream",
     "text": [
      "돈을 넣어주세요:  300\n"
     ]
    },
    {
     "name": "stdout",
     "output_type": "stream",
     "text": [
      "커피를 줍니다.\n"
     ]
    },
    {
     "name": "stdin",
     "output_type": "stream",
     "text": [
      "돈을 넣어주세요:  300\n"
     ]
    },
    {
     "name": "stdout",
     "output_type": "stream",
     "text": [
      "커피를 줍니다.\n"
     ]
    },
    {
     "name": "stdin",
     "output_type": "stream",
     "text": [
      "돈을 넣어주세요:  300\n"
     ]
    },
    {
     "name": "stdout",
     "output_type": "stream",
     "text": [
      "커피를 줍니다.\n"
     ]
    },
    {
     "name": "stdin",
     "output_type": "stream",
     "text": [
      "돈을 넣어주세요:  1\n"
     ]
    },
    {
     "name": "stdout",
     "output_type": "stream",
     "text": [
      "돈을 다시 돌려주고 커피를 주지 않습니다.\n",
      "남은 커피의 양은 7개 입니다.\n"
     ]
    },
    {
     "name": "stdin",
     "output_type": "stream",
     "text": [
      "돈을 넣어주세요:  300\n"
     ]
    },
    {
     "name": "stdout",
     "output_type": "stream",
     "text": [
      "커피를 줍니다.\n"
     ]
    },
    {
     "name": "stdin",
     "output_type": "stream",
     "text": [
      "돈을 넣어주세요:  300\n"
     ]
    },
    {
     "name": "stdout",
     "output_type": "stream",
     "text": [
      "커피를 줍니다.\n"
     ]
    },
    {
     "name": "stdin",
     "output_type": "stream",
     "text": [
      "돈을 넣어주세요:  300\n"
     ]
    },
    {
     "name": "stdout",
     "output_type": "stream",
     "text": [
      "커피를 줍니다.\n"
     ]
    },
    {
     "name": "stdin",
     "output_type": "stream",
     "text": [
      "돈을 넣어주세요:  300\n"
     ]
    },
    {
     "name": "stdout",
     "output_type": "stream",
     "text": [
      "커피를 줍니다.\n"
     ]
    },
    {
     "name": "stdin",
     "output_type": "stream",
     "text": [
      "돈을 넣어주세요:  300\n"
     ]
    },
    {
     "name": "stdout",
     "output_type": "stream",
     "text": [
      "커피를 줍니다.\n"
     ]
    },
    {
     "name": "stdin",
     "output_type": "stream",
     "text": [
      "돈을 넣어주세요:  300\n"
     ]
    },
    {
     "name": "stdout",
     "output_type": "stream",
     "text": [
      "커피를 줍니다.\n"
     ]
    },
    {
     "name": "stdin",
     "output_type": "stream",
     "text": [
      "돈을 넣어주세요:  300\n"
     ]
    },
    {
     "name": "stdout",
     "output_type": "stream",
     "text": [
      "커피를 줍니다.\n",
      "커피가 다 떨어졌습니다. 판매를 중지 합니다.\n"
     ]
    }
   ],
   "source": [
    "coffee = 10\n",
    "while True:\n",
    "    money = int(input(\"돈을 넣어주세요: \"))\n",
    "    if money == 300:\n",
    "        print(\"커피를 줍니다.\")\n",
    "        coffee-=1\n",
    "    elif money>300:\n",
    "        print(\"거스름돈 %d를 주고 커피를 줍니다.\"% (money-300))\n",
    "    else:\n",
    "        print(\"돈을 다시 돌려주고 커피를 주지 않습니다.\")\n",
    "        print(\"남은 커피의 양은 %d개 입니다.\" % coffee)\n",
    "    if coffee == 0:\n",
    "        print(\"커피가 다 떨어졌습니다. 판매를 중지 합니다.\")\n",
    "        break\n",
    "        "
   ]
  },
  {
   "cell_type": "code",
   "execution_count": 20,
   "id": "080735a0-fa4c-44d8-b811-998f2a927af3",
   "metadata": {},
   "outputs": [
    {
     "name": "stdout",
     "output_type": "stream",
     "text": [
      "1\n",
      "3\n",
      "5\n",
      "7\n",
      "9\n"
     ]
    }
   ],
   "source": [
    "#continue 문 - while 문의 맨 처음으로 돌아가기\n",
    "\n",
    "a =0\n",
    "while a<10:\n",
    "    a+= 1\n",
    "    if a % 2 ==0: continue # 짝수 라면 뒤로가지않고 문장의 앞으로 돌아감\n",
    "    print(a)"
   ]
  },
  {
   "cell_type": "markdown",
   "id": "2329db63-79b8-4e46-ad7a-6a92cdeba8d8",
   "metadata": {},
   "source": [
    "## 2. for문"
   ]
  },
  {
   "cell_type": "code",
   "execution_count": 1,
   "id": "efb0f3e4-f29f-441f-993f-677465964147",
   "metadata": {},
   "outputs": [
    {
     "name": "stdout",
     "output_type": "stream",
     "text": [
      "one\n",
      "two\n",
      "three\n"
     ]
    }
   ],
   "source": [
    "test_list = ['one','two','three']\n",
    "\n",
    "for i in test_list:\n",
    "    print(i)"
   ]
  },
  {
   "cell_type": "code",
   "execution_count": 2,
   "id": "0cc215c1-70a7-40d8-aff2-c8a3d98132f1",
   "metadata": {},
   "outputs": [
    {
     "name": "stdout",
     "output_type": "stream",
     "text": [
      "(5, 6)\n",
      "5\n"
     ]
    }
   ],
   "source": [
    "a= [(1,2),(3,4),(5,6)]\n",
    "print (a[2])\n",
    "print(a[2][0])"
   ]
  },
  {
   "cell_type": "code",
   "execution_count": 3,
   "id": "71263c3c-e8bd-41b9-aa30-89299663a298",
   "metadata": {},
   "outputs": [
    {
     "name": "stdout",
     "output_type": "stream",
     "text": [
      "3\n",
      "7\n",
      "11\n"
     ]
    }
   ],
   "source": [
    "for (first,last) in a:\n",
    "    print(first+last)"
   ]
  },
  {
   "cell_type": "code",
   "execution_count": 4,
   "id": "ff804526-e1a3-4beb-9ef6-eee6df20fd62",
   "metadata": {},
   "outputs": [
    {
     "name": "stdout",
     "output_type": "stream",
     "text": [
      "(1, 2)\n",
      "(3, 4)\n",
      "(5, 6)\n"
     ]
    }
   ],
   "source": [
    "for i in a:\n",
    "    print(i)"
   ]
  },
  {
   "cell_type": "code",
   "execution_count": 8,
   "id": "d885368b-ea74-4419-9ddf-d08762aa6378",
   "metadata": {},
   "outputs": [
    {
     "name": "stdout",
     "output_type": "stream",
     "text": [
      "1\n",
      "3\n",
      "5\n"
     ]
    }
   ],
   "source": [
    "for (first,last) in a:\n",
    "    print(first)\n",
    "    "
   ]
  },
  {
   "cell_type": "code",
   "execution_count": 16,
   "id": "b8ee94c9-3362-4170-a1d0-d294d770dda7",
   "metadata": {},
   "outputs": [
    {
     "name": "stdout",
     "output_type": "stream",
     "text": [
      "1번 학생은 합격입니다.\n",
      "2번 학생인 불합격입니다.\n",
      "3번 학생은 합격입니다.\n",
      "4번 학생인 불합격입니다.\n",
      "5번 학생은 합격입니다.\n"
     ]
    }
   ],
   "source": [
    "marks=[90,25,67,45,80]\n",
    "number = 0 # 학생에게 붙여줄 번호\n",
    "\n",
    "for i in marks:\n",
    "    number += 1\n",
    "    if i >= 60:\n",
    "        print(\"%d번 학생은 합격입니다.\"%number)\n",
    "    else:\n",
    "        print(\"%d번 학생인 불합격입니다.\"%number)"
   ]
  },
  {
   "cell_type": "code",
   "execution_count": 21,
   "id": "c3f0ad03-af32-4c53-a87c-2158b39ce2f0",
   "metadata": {},
   "outputs": [
    {
     "name": "stdout",
     "output_type": "stream",
     "text": [
      "1번 학생은 합격입니다. 축하합니다.\n",
      "3번 학생은 합격입니다. 축하합니다.\n",
      "5번 학생은 합격입니다. 축하합니다.\n"
     ]
    }
   ],
   "source": [
    "marks=[90,25,67,45,80]\n",
    "number = 0 # 학생에게 붙여줄 번호\n",
    "\n",
    "for i in marks:\n",
    "    number += 1\n",
    "    if i < 60 :\n",
    "        continue\n",
    "    print(\"%d번 학생은 합격입니다. 축하합니다.\"%number)   #아닌것은 따로 출력해야하므로 따로 빼야한다. 들여쓰기 처리 주의"
   ]
  },
  {
   "cell_type": "markdown",
   "id": "3f45ee82-6795-4d1c-8981-c749b2b8ef78",
   "metadata": {},
   "source": [
    "#### for문과 함께 자주 사용하는 range함수"
   ]
  },
  {
   "cell_type": "code",
   "execution_count": 28,
   "id": "3c86bdf8-1630-4f06-bc7d-140f0cf27ab1",
   "metadata": {},
   "outputs": [
    {
     "name": "stdout",
     "output_type": "stream",
     "text": [
      "range(0, 10)\n",
      "<class 'range'>\n"
     ]
    }
   ],
   "source": [
    "a = range(10)\n",
    "print(a)\n",
    "print(type(a))"
   ]
  },
  {
   "cell_type": "code",
   "execution_count": 26,
   "id": "7b8f5dc3-294c-490e-a12d-cab3fdb06b1c",
   "metadata": {},
   "outputs": [
    {
     "name": "stdout",
     "output_type": "stream",
     "text": [
      "[0, 1, 2, 3, 4, 5, 6, 7, 8, 9]\n",
      "<class 'list'>\n"
     ]
    }
   ],
   "source": [
    "a = list(a)\n",
    "print(a)\n",
    "print(type(a))"
   ]
  },
  {
   "cell_type": "code",
   "execution_count": 29,
   "id": "311f2d82-3aff-4b61-b90e-a6225ac6fe14",
   "metadata": {},
   "outputs": [
    {
     "name": "stdout",
     "output_type": "stream",
     "text": [
      "range(1, 11)\n"
     ]
    }
   ],
   "source": [
    "a = range(1,11)\n",
    "print(a)"
   ]
  },
  {
   "cell_type": "code",
   "execution_count": 30,
   "id": "c625f46a-43b0-4a4e-a6fe-fdcb9bd392de",
   "metadata": {},
   "outputs": [
    {
     "data": {
      "text/plain": [
       "[1, 2, 3, 4, 5, 6, 7, 8, 9, 10]"
      ]
     },
     "execution_count": 30,
     "metadata": {},
     "output_type": "execute_result"
    }
   ],
   "source": [
    "a=list(a)\n",
    "a"
   ]
  },
  {
   "cell_type": "code",
   "execution_count": 32,
   "id": "125003fb-5af9-4876-9d06-f0524440faa8",
   "metadata": {},
   "outputs": [
    {
     "data": {
      "text/plain": [
       "[15, 16, 17, 18, 19, 20]"
      ]
     },
     "execution_count": 32,
     "metadata": {},
     "output_type": "execute_result"
    }
   ],
   "source": [
    "#15,20\n",
    "a=list(range(15,21))\n",
    "a"
   ]
  },
  {
   "cell_type": "code",
   "execution_count": 35,
   "id": "75d0aa68-6bbe-48c1-a1c5-d9f84cc4e224",
   "metadata": {},
   "outputs": [
    {
     "name": "stdout",
     "output_type": "stream",
     "text": [
      "1\n",
      "3\n",
      "6\n",
      "10\n",
      "15\n",
      "21\n",
      "28\n",
      "36\n",
      "45\n",
      "55\n",
      "--------------------\n",
      "55\n"
     ]
    }
   ],
   "source": [
    "add = 0\n",
    "for i in range(1,11):\n",
    "    add += i\n",
    "    print(add)\n",
    "print(\"-\"*20)\n",
    "print(add)"
   ]
  },
  {
   "cell_type": "code",
   "execution_count": 42,
   "id": "404a4747-1b4e-4964-9a3f-6372f00b514d",
   "metadata": {},
   "outputs": [
    {
     "name": "stdout",
     "output_type": "stream",
     "text": [
      "1번 학생은 합격입니다. 축하합니다.\n",
      "3번 학생은 합격입니다. 축하합니다.\n",
      "5번 학생은 합격입니다. 축하합니다.\n"
     ]
    }
   ],
   "source": [
    "marks=[90,25,67,45,80]\n",
    "number = 0 # 학생에게 붙여줄 번호\n",
    "\n",
    "for i in range(len(marks)): #range(5) :0~4\n",
    "    if marks[i] < 60 :\n",
    "        continue\n",
    "    print(\"%d번 학생은 합격입니다. 축하합니다.\"%(i+1))\n",
    "    "
   ]
  },
  {
   "cell_type": "code",
   "execution_count": 46,
   "id": "96c20a06-09c2-4a81-b0ab-f63a2afd0e9c",
   "metadata": {},
   "outputs": [
    {
     "name": "stdout",
     "output_type": "stream",
     "text": [
      "2 4 6 8 10 12 14 16 18 \n",
      "3 6 9 12 15 18 21 24 27 \n",
      "4 8 12 16 20 24 28 32 36 \n",
      "5 10 15 20 25 30 35 40 45 \n",
      "6 12 18 24 30 36 42 48 54 \n",
      "7 14 21 28 35 42 49 56 63 \n",
      "8 16 24 32 40 48 56 64 72 \n",
      "9 18 27 36 45 54 63 72 81 \n"
     ]
    }
   ],
   "source": [
    "#구구단\n",
    "\n",
    "for i in range(2,10):\n",
    "    for j in range(1,10):\n",
    "        print(i*j, end=\" \") # 기본값은 줄바꿈이 되므로 끝나는 문자를 공백으로 지정해줌\n",
    "    print('') #단수를 나누기위해서 공백삽입"
   ]
  },
  {
   "cell_type": "code",
   "execution_count": 58,
   "id": "52e00957-5415-4c8e-9a33-30f819167046",
   "metadata": {},
   "outputs": [
    {
     "name": "stdout",
     "output_type": "stream",
     "text": [
      "2단\n",
      "2 * 1 = 2  |  2 * 2 = 4  |  2 * 3 = 6  |  2 * 4 = 8  |  2 * 5 = 10  |  2 * 6 = 12  |  2 * 7 = 14  |  2 * 8 = 16  |  2 * 9 = 18  |  \n",
      "------------------------------------------------------------------------------------------------------------------------\n",
      "3단\n",
      "3 * 1 = 3  |  3 * 2 = 6  |  3 * 3 = 9  |  3 * 4 = 12  |  3 * 5 = 15  |  3 * 6 = 18  |  3 * 7 = 21  |  3 * 8 = 24  |  3 * 9 = 27  |  \n",
      "------------------------------------------------------------------------------------------------------------------------\n",
      "4단\n",
      "4 * 1 = 4  |  4 * 2 = 8  |  4 * 3 = 12  |  4 * 4 = 16  |  4 * 5 = 20  |  4 * 6 = 24  |  4 * 7 = 28  |  4 * 8 = 32  |  4 * 9 = 36  |  \n",
      "------------------------------------------------------------------------------------------------------------------------\n",
      "5단\n",
      "5 * 1 = 5  |  5 * 2 = 10  |  5 * 3 = 15  |  5 * 4 = 20  |  5 * 5 = 25  |  5 * 6 = 30  |  5 * 7 = 35  |  5 * 8 = 40  |  5 * 9 = 45  |  \n",
      "------------------------------------------------------------------------------------------------------------------------\n",
      "6단\n",
      "6 * 1 = 6  |  6 * 2 = 12  |  6 * 3 = 18  |  6 * 4 = 24  |  6 * 5 = 30  |  6 * 6 = 36  |  6 * 7 = 42  |  6 * 8 = 48  |  6 * 9 = 54  |  \n",
      "------------------------------------------------------------------------------------------------------------------------\n",
      "7단\n",
      "7 * 1 = 7  |  7 * 2 = 14  |  7 * 3 = 21  |  7 * 4 = 28  |  7 * 5 = 35  |  7 * 6 = 42  |  7 * 7 = 49  |  7 * 8 = 56  |  7 * 9 = 63  |  \n",
      "------------------------------------------------------------------------------------------------------------------------\n",
      "8단\n",
      "8 * 1 = 8  |  8 * 2 = 16  |  8 * 3 = 24  |  8 * 4 = 32  |  8 * 5 = 40  |  8 * 6 = 48  |  8 * 7 = 56  |  8 * 8 = 64  |  8 * 9 = 72  |  \n",
      "------------------------------------------------------------------------------------------------------------------------\n",
      "9단\n",
      "9 * 1 = 9  |  9 * 2 = 18  |  9 * 3 = 27  |  9 * 4 = 36  |  9 * 5 = 45  |  9 * 6 = 54  |  9 * 7 = 63  |  9 * 8 = 72  |  9 * 9 = 81  |  \n",
      "------------------------------------------------------------------------------------------------------------------------\n"
     ]
    }
   ],
   "source": [
    "#구구단\n",
    "\n",
    "for i in range(2,10):\n",
    "    print(\"%d단\"%i)\n",
    "    for j in range(1,10):\n",
    "        print(\"%d * %d = %d\"%(i,j,i*j) ,end=\"  |  \") # 기본값은 줄바꿈이 되므로 끝나는 문자를 공백으로 지정해줌\n",
    "    print(\"\")\n",
    "    print('-'*120) #단수를 나누기위해서 공백삽입"
   ]
  },
  {
   "cell_type": "markdown",
   "id": "b54fc518-7f7e-41f2-8532-16c1ff6f3af7",
   "metadata": {},
   "source": [
    "#### 리스트 컴프리헨션(list comprehension)"
   ]
  },
  {
   "cell_type": "code",
   "execution_count": 59,
   "id": "2e25a935-c108-4bf6-9aab-510295bf14c0",
   "metadata": {},
   "outputs": [
    {
     "name": "stdout",
     "output_type": "stream",
     "text": [
      "[3, 6, 9, 12]\n"
     ]
    }
   ],
   "source": [
    "a = [1,2,3,4]\n",
    "result = []\n",
    "\n",
    "\n",
    "for num in a :\n",
    "    result.append(num*3)\n",
    "\n",
    "print(result)"
   ]
  },
  {
   "cell_type": "code",
   "execution_count": 61,
   "id": "9a19b572-02a3-4db5-8073-3bb841d898e9",
   "metadata": {},
   "outputs": [
    {
     "name": "stdout",
     "output_type": "stream",
     "text": [
      "[3, 6, 9, 12]\n"
     ]
    }
   ],
   "source": [
    "#리스트 컴프리헨션으로 표현\n",
    "a = [1,2,3,4]\n",
    "result = [num*3 for num in a]\n",
    "print(result)"
   ]
  },
  {
   "cell_type": "code",
   "execution_count": 64,
   "id": "c444a1bd-a74c-4c5c-91e2-baa540508b7a",
   "metadata": {},
   "outputs": [
    {
     "name": "stdout",
     "output_type": "stream",
     "text": [
      "[6, 12]\n"
     ]
    }
   ],
   "source": [
    "a=[1,2,3,4]\n",
    "result = [num * 3 for num in a if num%2==0] #[표현식 for 항목 in 반복가능객체 if 조건문]\n",
    "print(result)"
   ]
  },
  {
   "cell_type": "code",
   "execution_count": 69,
   "id": "89a21eb0-33f1-438d-9f8d-f4676ab8f01a",
   "metadata": {},
   "outputs": [
    {
     "name": "stdout",
     "output_type": "stream",
     "text": [
      "[2, 4, 6, 8, 10, 12, 14, 16, 18, 3, 6, 9, 12, 15, 18, 21, 24, 27, 4, 8, 12, 16, 20, 24, 28, 32, 36, 5, 10, 15, 20, 25, 30, 35, 40, 45, 6, 12, 18, 24, 30, 36, 42, 48, 54, 7, 14, 21, 28, 35, 42, 49, 56, 63, 8, 16, 24, 32, 40, 48, 56, 64, 72, 9, 18, 27, 36, 45, 54, 63, 72, 81]\n"
     ]
    }
   ],
   "source": [
    "result = [x*y for x in range(2,10) for y in range(1,10)]\n",
    "print(list(result))"
   ]
  },
  {
   "cell_type": "markdown",
   "id": "a3a607d2-3915-410c-aa29-7d69318b8b55",
   "metadata": {},
   "source": [
    "## 1) 기본구조 : [표현식 + for 문]"
   ]
  },
  {
   "cell_type": "code",
   "execution_count": 71,
   "id": "ccd724a8-32bf-46ff-aff3-fad4ce9c4e59",
   "metadata": {},
   "outputs": [
    {
     "name": "stdout",
     "output_type": "stream",
     "text": [
      "[0, 0, 0, 0, 0]\n"
     ]
    }
   ],
   "source": [
    "#표현식에 변수또는 상수를 쓰는 경우\n",
    "n = 5\n",
    "result = [0 for i in range(n)]\n",
    "print(result)"
   ]
  },
  {
   "cell_type": "code",
   "execution_count": 72,
   "id": "53a1b896-bdc0-4e37-8f52-7b096f22dc50",
   "metadata": {},
   "outputs": [
    {
     "name": "stdout",
     "output_type": "stream",
     "text": [
      "[0, 1, 2, 3, 4]\n"
     ]
    }
   ],
   "source": [
    "result = [i for i in range(n)]\n",
    "print(result)"
   ]
  },
  {
   "cell_type": "code",
   "execution_count": 73,
   "id": "97c55a18-a98a-462f-a4b5-5b43630cfb0f",
   "metadata": {},
   "outputs": [
    {
     "name": "stdout",
     "output_type": "stream",
     "text": [
      "[0, 1, 2, 3, 4, 5, 6, 7, 8, 9]\n"
     ]
    }
   ],
   "source": [
    "array = list(range(10)) # [0,1,2,3,4,5,6,7,8,9]\n",
    "result =[n for n in array]\n",
    "print(result)"
   ]
  },
  {
   "cell_type": "code",
   "execution_count": 74,
   "id": "e2bddecd-0a4c-4469-8148-fd16d5f7a5c4",
   "metadata": {},
   "outputs": [
    {
     "name": "stdout",
     "output_type": "stream",
     "text": [
      "[0, 1, 4, 9, 16, 25, 36, 49, 64, 81]\n"
     ]
    }
   ],
   "source": [
    "# 표현식에 연산식이나 함수를 쓰는 경우\n",
    "result = [n*n for n in array]\n",
    "print(result)\n"
   ]
  },
  {
   "cell_type": "code",
   "execution_count": 75,
   "id": "4378110b-a0da-4ed3-aa2a-cfca01ed4d51",
   "metadata": {},
   "outputs": [
    {
     "name": "stdout",
     "output_type": "stream",
     "text": [
      "[4, 13, 6]\n"
     ]
    }
   ],
   "source": [
    "str_array = [\"List\",\"Comprehension\",\"python\"]\n",
    "result = [len(string) for string in str_array]\n",
    "print(result)"
   ]
  },
  {
   "cell_type": "code",
   "execution_count": 76,
   "id": "2d76fa29-af13-403d-8167-22325c2b4fd9",
   "metadata": {},
   "outputs": [
    {
     "name": "stdout",
     "output_type": "stream",
     "text": [
      "[0, 1, 2, 3, 4, 0, 1, 2, 3, 4]\n"
     ]
    }
   ],
   "source": [
    "def mod_5(number):\n",
    "    return number%5\n",
    "\n",
    "result = [mod_5(n) for n in array]\n",
    "print(result)"
   ]
  },
  {
   "cell_type": "markdown",
   "id": "8b5c8561-97be-4e3e-95dc-445b3ef79485",
   "metadata": {},
   "source": [
    "### 2) [표현식 + for문 + 조건문]"
   ]
  },
  {
   "cell_type": "code",
   "execution_count": 79,
   "id": "a8c08e25-f2cb-47cb-abc4-354d170c9859",
   "metadata": {},
   "outputs": [
    {
     "name": "stdout",
     "output_type": "stream",
     "text": [
      "[0, 2, 4, 6, 8]\n"
     ]
    }
   ],
   "source": [
    "# if문 한 번 사용한 경우\n",
    "result = [n for n in range(10) if n%2==0]\n",
    "print(result)"
   ]
  },
  {
   "cell_type": "code",
   "execution_count": 80,
   "id": "3f93aee2-c926-4cba-a6c4-644f56856c77",
   "metadata": {},
   "outputs": [
    {
     "name": "stdout",
     "output_type": "stream",
     "text": [
      "[1, 3, 5, 7, 9]\n"
     ]
    }
   ],
   "source": [
    "result = [n for n in range(10) if n%2==1]\n",
    "print(result)"
   ]
  },
  {
   "cell_type": "code",
   "execution_count": 81,
   "id": "22ce7449-7b62-436f-9b48-2d467d0f8929",
   "metadata": {},
   "outputs": [
    {
     "name": "stdout",
     "output_type": "stream",
     "text": [
      "[24, 5, 2]\n"
     ]
    }
   ],
   "source": [
    "array = [-1,0,-4,24,5,-10,2]\n",
    "result = [n for n in array if n>0]\n",
    "print(result)"
   ]
  },
  {
   "cell_type": "code",
   "execution_count": 83,
   "id": "7cbd94e7-83f2-479d-9515-f1db7364ef2c",
   "metadata": {},
   "outputs": [
    {
     "name": "stdout",
     "output_type": "stream",
     "text": [
      "[3, 9, 15, 21, 27, 33, 39, 45]\n"
     ]
    }
   ],
   "source": [
    "# if문 여러번 사용한 경우\n",
    "result = [n for n in range(50) if n%3 ==0 if n%2!=0]  #3의배수이면서 홀수인경우\n",
    "print(result)"
   ]
  },
  {
   "cell_type": "markdown",
   "id": "fe6ebebc-dadb-44e3-86e5-3b8bf8185abf",
   "metadata": {},
   "source": [
    "### 3) [표현식 + 조건문 +for문]"
   ]
  },
  {
   "cell_type": "code",
   "execution_count": 85,
   "id": "783f799c-466a-40ae-8d6d-8146c99e500a",
   "metadata": {},
   "outputs": [
    {
     "name": "stdout",
     "output_type": "stream",
     "text": [
      "[0, 0, 0, 24, 5, 0, 2]\n"
     ]
    }
   ],
   "source": [
    "result = [n if n>0 else 0 for n in array]\n",
    "print(result)"
   ]
  },
  {
   "cell_type": "code",
   "execution_count": 87,
   "id": "65bf4208-6233-4588-99a3-abc87061c08e",
   "metadata": {},
   "outputs": [
    {
     "name": "stdout",
     "output_type": "stream",
     "text": [
      "['even', 'odd', 'even', 'odd']\n"
     ]
    }
   ],
   "source": [
    "array = [0,1,2,3]\n",
    "result = ['even' if n%2==0 else 'odd' for n in array]\n",
    "print(result)"
   ]
  },
  {
   "cell_type": "markdown",
   "id": "d6c42de2-b943-4b2d-94b6-08c0a6d1d7d4",
   "metadata": {},
   "source": [
    "### 4) 중첩 for문"
   ]
  },
  {
   "cell_type": "code",
   "execution_count": 89,
   "id": "daf40a51-7229-4f7d-909d-e344338dae0f",
   "metadata": {},
   "outputs": [
    {
     "name": "stdout",
     "output_type": "stream",
     "text": [
      "[1, 2, 2, 4, 3, 6]\n"
     ]
    }
   ],
   "source": [
    "# 중첩 for문\n",
    "pos =[]\n",
    "for i in range(1,4):\n",
    "    for j in range(1,3):\n",
    "        pos.append(i*j)\n",
    "print(pos)"
   ]
  },
  {
   "cell_type": "code",
   "execution_count": 90,
   "id": "a2e5b240-cf50-4bac-b944-7733cfad00e8",
   "metadata": {},
   "outputs": [
    {
     "name": "stdout",
     "output_type": "stream",
     "text": [
      "[1, 2, 2, 4, 3, 6]\n"
     ]
    }
   ],
   "source": [
    "# 리스트 컴프리헨션으로\n",
    "pos = [i*j for i in range(1,4) for j in range(1,3)]\n",
    "print(pos)"
   ]
  },
  {
   "cell_type": "markdown",
   "id": "ee67a92e-ec7f-4984-a1f2-d33d8336a6dd",
   "metadata": {},
   "source": [
    "### 5) 중첩 List Comprehension"
   ]
  },
  {
   "cell_type": "code",
   "execution_count": 93,
   "id": "179fbb4c-42f3-4f58-9f3f-3aa6ea5845ad",
   "metadata": {},
   "outputs": [
    {
     "name": "stdout",
     "output_type": "stream",
     "text": [
      "[[0, 0], [0, 0], [0, 0]]\n"
     ]
    }
   ],
   "source": [
    "# 2차원 배열 만들기 (행렬 3*2)\n",
    "result = [[0 for i in range(2)]for j in range(3)]\n",
    "print(result)"
   ]
  },
  {
   "cell_type": "code",
   "execution_count": null,
   "id": "ab08ebc8-4bd6-4904-bede-b73874c4ddbe",
   "metadata": {},
   "outputs": [],
   "source": []
  }
 ],
 "metadata": {
  "kernelspec": {
   "display_name": "Python [conda env:base] *",
   "language": "python",
   "name": "conda-base-py"
  },
  "language_info": {
   "codemirror_mode": {
    "name": "ipython",
    "version": 3
   },
   "file_extension": ".py",
   "mimetype": "text/x-python",
   "name": "python",
   "nbconvert_exporter": "python",
   "pygments_lexer": "ipython3",
   "version": "3.13.5"
  }
 },
 "nbformat": 4,
 "nbformat_minor": 5
}
