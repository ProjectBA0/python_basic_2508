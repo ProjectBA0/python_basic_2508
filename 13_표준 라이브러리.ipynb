{
 "cells": [
  {
   "cell_type": "markdown",
   "id": "3e4720cc-b49d-4b7f-9dd5-81946355a948",
   "metadata": {},
   "source": [
    "###  날짜 표준 라이브러리"
   ]
  },
  {
   "cell_type": "code",
   "execution_count": 1,
   "id": "90c66b1c-23fb-45eb-a24c-caa74d8a24f1",
   "metadata": {},
   "outputs": [],
   "source": [
    "import datetime"
   ]
  },
  {
   "cell_type": "code",
   "execution_count": 3,
   "id": "44790e2f-81a1-4a0c-b960-e7064cbe06f1",
   "metadata": {},
   "outputs": [],
   "source": [
    "day1 = datetime.date(2025,9,1)\n",
    "day2 = datetime.date(2026,4,5)"
   ]
  },
  {
   "cell_type": "code",
   "execution_count": 4,
   "id": "a2211277-1661-4cf1-9b78-548d882e6a1d",
   "metadata": {},
   "outputs": [
    {
     "data": {
      "text/plain": [
       "216"
      ]
     },
     "execution_count": 4,
     "metadata": {},
     "output_type": "execute_result"
    }
   ],
   "source": [
    "diff = day2 - day1\n",
    "diff.days"
   ]
  },
  {
   "cell_type": "code",
   "execution_count": 7,
   "id": "f8dd703e-ed80-4686-919c-03b564460a62",
   "metadata": {},
   "outputs": [
    {
     "name": "stdout",
     "output_type": "stream",
     "text": [
      "0\n",
      "1\n"
     ]
    }
   ],
   "source": [
    "print(day1.weekday()) # 월~일 0~6\n",
    "print(day1.isoweekday())  #월~일 1~7"
   ]
  },
  {
   "cell_type": "code",
   "execution_count": 8,
   "id": "69d17450-d6e1-44e2-a1ff-da85a9781396",
   "metadata": {},
   "outputs": [
    {
     "data": {
      "text/plain": [
       "6"
      ]
     },
     "execution_count": 8,
     "metadata": {},
     "output_type": "execute_result"
    }
   ],
   "source": [
    "day2.weekday()"
   ]
  },
  {
   "cell_type": "code",
   "execution_count": 11,
   "id": "d30d8a10-bba4-477a-ac1c-ef7e91a4aade",
   "metadata": {},
   "outputs": [
    {
     "name": "stdout",
     "output_type": "stream",
     "text": [
      "1756688794.7030659\n",
      "time.struct_time(tm_year=2025, tm_mon=9, tm_mday=1, tm_hour=10, tm_min=6, tm_sec=34, tm_wday=0, tm_yday=244, tm_isdst=0)\n",
      "Mon Sep  1 10:06:34 2025\n",
      "Mon Sep  1 10:06:34 2025\n"
     ]
    }
   ],
   "source": [
    "import time\n",
    "print(time.time()) #1970년 1월1일 기준으로 초단위로 리턴하는함수\n",
    "print(time.localtime()) #연,월,이,시,분,초,... 형태로 바꿔줌\n",
    "print(time.asctime()) #알아보기 쉬운형태로 전환\n",
    "print(time.ctime()) #항상 현재시간만을 리턴함."
   ]
  },
  {
   "cell_type": "code",
   "execution_count": 12,
   "id": "b8c4c367-a3f2-4cc6-b094-5268fa388fff",
   "metadata": {},
   "outputs": [
    {
     "data": {
      "text/plain": [
       "'09/01/25'"
      ]
     },
     "execution_count": 12,
     "metadata": {},
     "output_type": "execute_result"
    }
   ],
   "source": [
    "time.strftime('%x',time.localtime(time.time()))"
   ]
  },
  {
   "cell_type": "code",
   "execution_count": 13,
   "id": "15b95d53-2681-4496-a424-6e6c28b96f45",
   "metadata": {},
   "outputs": [
    {
     "data": {
      "text/plain": [
       "'Mon Sep  1 10:10:51 2025'"
      ]
     },
     "execution_count": 13,
     "metadata": {},
     "output_type": "execute_result"
    }
   ],
   "source": [
    "time.strftime('%c',time.localtime(time.time()))"
   ]
  },
  {
   "cell_type": "code",
   "execution_count": 16,
   "id": "472b4595-30d3-4085-ab21-b8d98191e5e3",
   "metadata": {},
   "outputs": [
    {
     "name": "stdout",
     "output_type": "stream",
     "text": [
      "0\n",
      "1\n",
      "2\n",
      "3\n",
      "4\n",
      "5\n",
      "6\n",
      "7\n",
      "8\n",
      "9\n"
     ]
    }
   ],
   "source": [
    "for i in range(10):\n",
    "    print(i)\n",
    "    time.sleep(1)"
   ]
  },
  {
   "cell_type": "markdown",
   "id": "1d2eb774-75f7-40e0-b7c2-9f94ff359358",
   "metadata": {},
   "source": [
    "### random 표준 라이브러리"
   ]
  },
  {
   "cell_type": "code",
   "execution_count": 17,
   "id": "3d613be1-a38d-4d9b-894b-327179c0c998",
   "metadata": {},
   "outputs": [
    {
     "data": {
      "text/plain": [
       "0.13932384029979883"
      ]
     },
     "execution_count": 17,
     "metadata": {},
     "output_type": "execute_result"
    }
   ],
   "source": [
    "import random\n",
    "random.random()"
   ]
  },
  {
   "cell_type": "code",
   "execution_count": 18,
   "id": "dbe7f15b-3d11-4e4e-b267-33c8d962fb97",
   "metadata": {},
   "outputs": [
    {
     "name": "stdout",
     "output_type": "stream",
     "text": [
      "6\n",
      "3\n"
     ]
    }
   ],
   "source": [
    "print(random.randint(1,10))\n",
    "print(random.randint(1,55))"
   ]
  },
  {
   "cell_type": "code",
   "execution_count": 20,
   "id": "db716db2-af17-45cb-9051-22635a3ee74b",
   "metadata": {},
   "outputs": [
    {
     "name": "stdout",
     "output_type": "stream",
     "text": [
      "5\n",
      "1\n",
      "2\n",
      "3\n",
      "4\n"
     ]
    }
   ],
   "source": [
    "# 리스트에서 무작위로 하나를 선택하여 리턴하는 함수\n",
    "def random_pop(data):\n",
    "    num=random.randint(0,len(data)-1)\n",
    "    return data.pop(num)\n",
    "\n",
    "data = [1,2,3,4,5]\n",
    "while data:\n",
    "    print(random_pop(data))"
   ]
  },
  {
   "cell_type": "code",
   "execution_count": 21,
   "id": "2f02888f-e1a5-4c45-b0bf-b5ff26f0be2b",
   "metadata": {},
   "outputs": [],
   "source": [
    "def random_pop(data):\n",
    "    num =random.choice(data)\n",
    "    data.remove(num)\n",
    "    return num"
   ]
  },
  {
   "cell_type": "code",
   "execution_count": 24,
   "id": "7165eb7b-7ddc-44b9-a295-5c51db167b11",
   "metadata": {},
   "outputs": [
    {
     "name": "stdout",
     "output_type": "stream",
     "text": [
      "1\n",
      "4\n",
      "5\n",
      "2\n",
      "3\n"
     ]
    }
   ],
   "source": [
    "data = [1,2,3,4,5]\n",
    "while data:\n",
    "    print(random_pop(data))"
   ]
  },
  {
   "cell_type": "code",
   "execution_count": 25,
   "id": "3a080a18-cdd2-4fba-86fd-c8713bbfda05",
   "metadata": {},
   "outputs": [
    {
     "name": "stdout",
     "output_type": "stream",
     "text": [
      "1\n",
      "4\n",
      "5\n",
      "3\n",
      "2\n"
     ]
    }
   ],
   "source": [
    "data = [1,2,3,4,5]\n",
    "while data:\n",
    "    print(random_pop(data))"
   ]
  },
  {
   "cell_type": "code",
   "execution_count": 27,
   "id": "2d726d30-32b4-4392-a894-26921c2eeeb5",
   "metadata": {},
   "outputs": [],
   "source": [
    "data = [1,2,3,4,5]"
   ]
  },
  {
   "cell_type": "code",
   "execution_count": 30,
   "id": "20faf6d6-837d-4b70-8cbd-5205c7d9b8d8",
   "metadata": {},
   "outputs": [
    {
     "data": {
      "text/plain": [
       "[2, 3, 5, 4, 1]"
      ]
     },
     "execution_count": 30,
     "metadata": {},
     "output_type": "execute_result"
    }
   ],
   "source": [
    "random.sample(data,len(data))"
   ]
  },
  {
   "cell_type": "markdown",
   "id": "84d49eb0-bd3d-4fcc-be16-81780ede1b95",
   "metadata": {},
   "source": [
    "### pickle 표준 라이브러리"
   ]
  },
  {
   "cell_type": "code",
   "execution_count": 34,
   "id": "33b69e8c-1057-422a-9e99-72da103e46c5",
   "metadata": {},
   "outputs": [],
   "source": [
    "import pickle\n",
    "f = open(\"test.txt\",'wb')\n",
    "data={1:'python',2:'you need'}\n",
    "pickle.dump(data,f)\n",
    "f.close()\n"
   ]
  },
  {
   "cell_type": "code",
   "execution_count": 35,
   "id": "69bc2ef4-24e4-4c38-9c7a-217bca6a597e",
   "metadata": {},
   "outputs": [
    {
     "name": "stdout",
     "output_type": "stream",
     "text": [
      "{1: 'python', 2: 'you need'}\n"
     ]
    }
   ],
   "source": [
    "f =open(\"test.txt\",'rb')\n",
    "content=pickle.load(f)\n",
    "print(content)"
   ]
  },
  {
   "cell_type": "code",
   "execution_count": null,
   "id": "60cd308a-fb35-4606-b0dc-0e5f22de4160",
   "metadata": {},
   "outputs": [],
   "source": []
  }
 ],
 "metadata": {
  "kernelspec": {
   "display_name": "Python [conda env:base] *",
   "language": "python",
   "name": "conda-base-py"
  },
  "language_info": {
   "codemirror_mode": {
    "name": "ipython",
    "version": 3
   },
   "file_extension": ".py",
   "mimetype": "text/x-python",
   "name": "python",
   "nbconvert_exporter": "python",
   "pygments_lexer": "ipython3",
   "version": "3.13.5"
  }
 },
 "nbformat": 4,
 "nbformat_minor": 5
}
