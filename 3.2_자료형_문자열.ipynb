{
 "cells": [
  {
   "cell_type": "markdown",
   "id": "4e112f3a-41df-4d4e-a6d6-068d75bdeddf",
   "metadata": {},
   "source": [
    "## 3-2_자료형_문자열"
   ]
  },
  {
   "cell_type": "code",
   "execution_count": 1,
   "id": "53abca98-e41d-4b4a-ba54-5879be0a5b88",
   "metadata": {},
   "outputs": [],
   "source": [
    "food =\"Python's favorite food is perl\""
   ]
  },
  {
   "cell_type": "code",
   "execution_count": 4,
   "id": "d7fe5863-63d8-4056-9559-ac0129631733",
   "metadata": {},
   "outputs": [
    {
     "name": "stdout",
     "output_type": "stream",
     "text": [
      "Python's favorite food is perl\n",
      "<class 'str'>\n"
     ]
    }
   ],
   "source": [
    "print(food)\n",
    "print(type(food))"
   ]
  },
  {
   "cell_type": "markdown",
   "id": "6dc33a66-bf86-4f87-bb80-58cb1b6fe2f4",
   "metadata": {},
   "source": [
    "### 역슬래쉬를 사용하여 특수문자를 알려준다"
   ]
  },
  {
   "cell_type": "code",
   "execution_count": 8,
   "id": "8d2ed601-0d13-4085-bc93-53f4674b3d26",
   "metadata": {},
   "outputs": [],
   "source": [
    "food ='Python\\'s favorite food is perl'"
   ]
  },
  {
   "cell_type": "code",
   "execution_count": 9,
   "id": "e9078580-435e-4f4c-a805-cac2b64e41ea",
   "metadata": {},
   "outputs": [
    {
     "name": "stdout",
     "output_type": "stream",
     "text": [
      "Python's favorite food is perl\n"
     ]
    }
   ],
   "source": [
    "print(food)"
   ]
  },
  {
   "cell_type": "code",
   "execution_count": 13,
   "id": "d4b7f824-2cdb-4d5a-9be9-8705f2406e9a",
   "metadata": {},
   "outputs": [
    {
     "name": "stdout",
     "output_type": "stream",
     "text": [
      "\"Python is very easy.\" he says.\n"
     ]
    },
    {
     "data": {
      "text/plain": [
       "'\"Python is very easy.\" he says.'"
      ]
     },
     "execution_count": 13,
     "metadata": {},
     "output_type": "execute_result"
    }
   ],
   "source": [
    "say ='\"Python is very easy.\" he says.'\n",
    "print(say)\n",
    "say"
   ]
  },
  {
   "cell_type": "code",
   "execution_count": 14,
   "id": "356d3a9a-1bbc-4c0a-bcb4-a6969771eef3",
   "metadata": {},
   "outputs": [
    {
     "name": "stdout",
     "output_type": "stream",
     "text": [
      "\"Python is very easy.\" he says.\n"
     ]
    },
    {
     "data": {
      "text/plain": [
       "'\"Python is very easy.\" he says.'"
      ]
     },
     "execution_count": 14,
     "metadata": {},
     "output_type": "execute_result"
    }
   ],
   "source": [
    "say =\"\\\"Python is very easy.\\\" he says.\"\n",
    "print(say)\n",
    "say"
   ]
  },
  {
   "cell_type": "markdown",
   "id": "02d31daf-68dc-49d8-92e4-8e0a90ea37c7",
   "metadata": {},
   "source": [
    "### 여러줄 문자열"
   ]
  },
  {
   "cell_type": "code",
   "execution_count": 15,
   "id": "3ca4aec4-cba7-4740-816c-ce98c98eb3f0",
   "metadata": {},
   "outputs": [
    {
     "name": "stdout",
     "output_type": "stream",
     "text": [
      "Life is too short You need python\n"
     ]
    }
   ],
   "source": [
    "multiline = \"Life is too short You need python\"\n",
    "print(multiline)"
   ]
  },
  {
   "cell_type": "code",
   "execution_count": 16,
   "id": "34710118-059a-42cb-9fe6-2d0744f649ab",
   "metadata": {},
   "outputs": [
    {
     "name": "stdout",
     "output_type": "stream",
     "text": [
      "Life is too short\n",
      " You need python\n"
     ]
    }
   ],
   "source": [
    "multiline = \"Life is too short\\n You need python\"\n",
    "print(multiline)"
   ]
  },
  {
   "cell_type": "code",
   "execution_count": 17,
   "id": "2d367749-c632-4016-aecf-09f193a9a512",
   "metadata": {},
   "outputs": [
    {
     "name": "stdout",
     "output_type": "stream",
     "text": [
      "Life is too short \n",
      " You need python\n"
     ]
    }
   ],
   "source": [
    "multiline = \"\"\"Life is too short \n",
    " You need python\"\"\"\n",
    "print(multiline)"
   ]
  },
  {
   "cell_type": "code",
   "execution_count": 19,
   "id": "aeaa1c7c-bf57-473a-a133-842f556e9207",
   "metadata": {},
   "outputs": [
    {
     "name": "stdout",
     "output_type": "stream",
     "text": [
      "Life is too short \n",
      " You need python\n"
     ]
    }
   ],
   "source": [
    "multiline = '''Life is too short \n",
    " You need python'''\n",
    "print(multiline)"
   ]
  },
  {
   "cell_type": "markdown",
   "id": "3a80b590-b11b-458f-a699-b59dddc537a0",
   "metadata": {},
   "source": [
    "### 문자열 연산"
   ]
  },
  {
   "cell_type": "code",
   "execution_count": 21,
   "id": "cfea3821-dcdc-439f-969b-a1d658514e14",
   "metadata": {},
   "outputs": [
    {
     "data": {
      "text/plain": [
       "'Python is fun!'"
      ]
     },
     "execution_count": 21,
     "metadata": {},
     "output_type": "execute_result"
    }
   ],
   "source": [
    "head = \"Python\"\n",
    "tail = \" is fun!\"\n",
    "head + tail"
   ]
  },
  {
   "cell_type": "code",
   "execution_count": 25,
   "id": "21b66ab3-cdf0-4496-94d7-f33f6e6820c0",
   "metadata": {},
   "outputs": [
    {
     "name": "stdout",
     "output_type": "stream",
     "text": [
      "python python \n",
      "python python python \n"
     ]
    }
   ],
   "source": [
    "a= \"python \"\n",
    "print(a*2)\n",
    "print(a*3)"
   ]
  },
  {
   "cell_type": "code",
   "execution_count": 26,
   "id": "b228e14a-e494-460a-9339-a1219717b2ed",
   "metadata": {},
   "outputs": [
    {
     "name": "stdout",
     "output_type": "stream",
     "text": [
      "==================================================\n",
      "Python\n",
      "==================================================\n"
     ]
    }
   ],
   "source": [
    "print('='*50)\n",
    "print('Python')\n",
    "print('='*50)"
   ]
  },
  {
   "cell_type": "markdown",
   "id": "36bdff2b-728f-4a15-b1a7-c24863739747",
   "metadata": {},
   "source": [
    "### 문자열 길이 구하기"
   ]
  },
  {
   "cell_type": "code",
   "execution_count": 27,
   "id": "357bc468-faa7-4276-b5b1-fdcf4149ef1e",
   "metadata": {},
   "outputs": [
    {
     "data": {
      "text/plain": [
       "17"
      ]
     },
     "execution_count": 27,
     "metadata": {},
     "output_type": "execute_result"
    }
   ],
   "source": [
    "a = \"Life is too short\"\n",
    "len(a)"
   ]
  },
  {
   "cell_type": "code",
   "execution_count": 28,
   "id": "1c86b335-d80b-4233-b3e4-5cef89cc1b09",
   "metadata": {},
   "outputs": [
    {
     "name": "stdout",
     "output_type": "stream",
     "text": [
      "34\n"
     ]
    }
   ],
   "source": [
    "b = len(a)+ len(a)\n",
    "print(b)"
   ]
  },
  {
   "cell_type": "markdown",
   "id": "e16136d4-a941-442c-9531-a70d0543d067",
   "metadata": {},
   "source": [
    "### 문자열 인덱싱"
   ]
  },
  {
   "cell_type": "code",
   "execution_count": 29,
   "id": "2dd822dc-a446-4abf-ae06-43dda4b5d7f5",
   "metadata": {},
   "outputs": [],
   "source": [
    "a = \"Life is too short, You need Python\""
   ]
  },
  {
   "cell_type": "code",
   "execution_count": 30,
   "id": "997e09dc-a7d9-4213-9433-f01644ebca25",
   "metadata": {},
   "outputs": [
    {
     "data": {
      "text/plain": [
       "'i'"
      ]
     },
     "execution_count": 30,
     "metadata": {},
     "output_type": "execute_result"
    }
   ],
   "source": [
    "a[5]"
   ]
  },
  {
   "cell_type": "code",
   "execution_count": 31,
   "id": "fa4d65a3-3042-4672-b4e1-a4ed8b355a26",
   "metadata": {},
   "outputs": [
    {
     "data": {
      "text/plain": [
       "34"
      ]
     },
     "execution_count": 31,
     "metadata": {},
     "output_type": "execute_result"
    }
   ],
   "source": [
    "len(a)"
   ]
  },
  {
   "cell_type": "code",
   "execution_count": 34,
   "id": "6186be55-07dd-4616-96ea-2fe7c949cecb",
   "metadata": {},
   "outputs": [
    {
     "data": {
      "text/plain": [
       "'n'"
      ]
     },
     "execution_count": 34,
     "metadata": {},
     "output_type": "execute_result"
    }
   ],
   "source": [
    "a[33]\n",
    "a[-1]   # 뒤에서 부터 찾기"
   ]
  },
  {
   "cell_type": "markdown",
   "id": "a14a292e-07ee-4e84-8219-48430193264d",
   "metadata": {},
   "source": [
    "### 문자열 슬라이싱"
   ]
  },
  {
   "cell_type": "code",
   "execution_count": 35,
   "id": "fb33b86b-62fb-45fb-9e1f-dfcb456e639b",
   "metadata": {},
   "outputs": [
    {
     "name": "stdout",
     "output_type": "stream",
     "text": [
      "Life\n"
     ]
    }
   ],
   "source": [
    "b = a[0] +a[1] +a[2] +a[3]\n",
    "print(b)"
   ]
  },
  {
   "cell_type": "code",
   "execution_count": 36,
   "id": "cc1ccc5d-9a4f-4a74-8173-4dec2fa5cdc2",
   "metadata": {},
   "outputs": [
    {
     "data": {
      "text/plain": [
       "'Life'"
      ]
     },
     "execution_count": 36,
     "metadata": {},
     "output_type": "execute_result"
    }
   ],
   "source": [
    "a[0:4] # 0<='a'<4  즉 0,1,2,3 을 슬라이싱한다"
   ]
  },
  {
   "cell_type": "code",
   "execution_count": 37,
   "id": "15e2cbe3-193f-49fa-9c36-a3541ff6a9e7",
   "metadata": {},
   "outputs": [
    {
     "data": {
      "text/plain": [
       "'short'"
      ]
     },
     "execution_count": 37,
     "metadata": {},
     "output_type": "execute_result"
    }
   ],
   "source": [
    "a[12:17]  "
   ]
  },
  {
   "cell_type": "code",
   "execution_count": 38,
   "id": "3fb3d83b-84e7-41c4-bdc7-43bdb823ee93",
   "metadata": {},
   "outputs": [
    {
     "data": {
      "text/plain": [
       "'Python'"
      ]
     },
     "execution_count": 38,
     "metadata": {},
     "output_type": "execute_result"
    }
   ],
   "source": [
    "a[28:]\n",
    "a[28:34]  # 문장 끝까지 슬라이싱"
   ]
  },
  {
   "cell_type": "code",
   "execution_count": 39,
   "id": "6941677f-fbb8-4ffd-8ebb-a789993c47b0",
   "metadata": {},
   "outputs": [
    {
     "data": {
      "text/plain": [
       "'Life'"
      ]
     },
     "execution_count": 39,
     "metadata": {},
     "output_type": "execute_result"
    }
   ],
   "source": [
    "a[0:4]\n",
    "a[:4]  #문장 앞부터 슬라이싱"
   ]
  },
  {
   "cell_type": "code",
   "execution_count": 40,
   "id": "711a949a-7172-46ef-92cf-3d9d41805c43",
   "metadata": {},
   "outputs": [
    {
     "data": {
      "text/plain": [
       "'Life is too short'"
      ]
     },
     "execution_count": 40,
     "metadata": {},
     "output_type": "execute_result"
    }
   ],
   "source": [
    "a[:17]"
   ]
  },
  {
   "cell_type": "code",
   "execution_count": 41,
   "id": "a94f0c0f-44c6-4571-853a-f27dae839003",
   "metadata": {
    "collapsed": true,
    "jupyter": {
     "outputs_hidden": true
    }
   },
   "outputs": [
    {
     "data": {
      "text/plain": [
       "'Life is too short, You need Python'"
      ]
     },
     "execution_count": 41,
     "metadata": {},
     "output_type": "execute_result"
    }
   ],
   "source": [
    "a[:] # 문장 전체출력 굳이 슬라이싱을 사용하여 출력한다면"
   ]
  },
  {
   "cell_type": "code",
   "execution_count": 42,
   "id": "e2f86878-4aa9-4df1-908a-b7f702d84a94",
   "metadata": {},
   "outputs": [
    {
     "data": {
      "text/plain": [
       "'You need'"
      ]
     },
     "execution_count": 42,
     "metadata": {},
     "output_type": "execute_result"
    }
   ],
   "source": [
    "a[19:-7]"
   ]
  },
  {
   "cell_type": "code",
   "execution_count": 43,
   "id": "be817019-1d58-4fb1-b9a3-482bf0dad11b",
   "metadata": {},
   "outputs": [
    {
     "name": "stdout",
     "output_type": "stream",
     "text": [
      "<class 'str'>\n"
     ]
    }
   ],
   "source": [
    "a = \"123\"\n",
    "print(type(a))  # 따옴표안에들어가면 숫자형이지만 문자형으로 나타난다."
   ]
  },
  {
   "cell_type": "markdown",
   "id": "f199af49-64e9-4f4a-9be1-52f607a69894",
   "metadata": {},
   "source": [
    "### Pithon 문자열을 Python으로 바꾸려면?"
   ]
  },
  {
   "cell_type": "code",
   "execution_count": 4,
   "id": "0b81a58e-dcad-44c6-845f-b04abba3dce5",
   "metadata": {},
   "outputs": [
    {
     "data": {
      "text/plain": [
       "'i'"
      ]
     },
     "execution_count": 4,
     "metadata": {},
     "output_type": "execute_result"
    }
   ],
   "source": [
    "a='Pithon'\n",
    "a[1]\n"
   ]
  },
  {
   "cell_type": "code",
   "execution_count": 7,
   "id": "fbe51494-d040-48d4-acc7-5129fbcabc88",
   "metadata": {},
   "outputs": [
    {
     "name": "stdout",
     "output_type": "stream",
     "text": [
      "Pithon\n",
      "Python\n"
     ]
    }
   ],
   "source": [
    "b = a[0]+'y'+a[2:]\n",
    "print(a)\n",
    "print(b)"
   ]
  },
  {
   "cell_type": "markdown",
   "id": "fd4aa7b5-c755-48b4-bd81-779382829b76",
   "metadata": {},
   "source": [
    "### 문자열 포매팅"
   ]
  },
  {
   "cell_type": "code",
   "execution_count": 10,
   "id": "97ee3781-88f2-409a-bd74-484e69617a44",
   "metadata": {},
   "outputs": [
    {
     "data": {
      "text/plain": [
       "'I eat 2 apples.'"
      ]
     },
     "execution_count": 10,
     "metadata": {},
     "output_type": "execute_result"
    }
   ],
   "source": [
    "\"I eat %d apples.\"%2 #%d뒤에는 숫자만 사용할수있다."
   ]
  },
  {
   "cell_type": "code",
   "execution_count": 13,
   "id": "be8c8356-6c43-4b0b-8717-fcc79b1c0f4b",
   "metadata": {},
   "outputs": [
    {
     "data": {
      "text/plain": [
       "'I eat 5 apples.'"
      ]
     },
     "execution_count": 13,
     "metadata": {},
     "output_type": "execute_result"
    }
   ],
   "source": [
    "\"I eat %s apples.\"%\"abc\" #%s는 문자와 숫자를 둘다처리하지만 string에 들어간 숫자는 문자처리된다.\n",
    "\"I eat %s apples.\"%5"
   ]
  },
  {
   "cell_type": "code",
   "execution_count": 14,
   "id": "549ee2dd-1710-4cd0-bb10-59c0e7da41a0",
   "metadata": {},
   "outputs": [
    {
     "data": {
      "text/plain": [
       "'I eat 3 apples.'"
      ]
     },
     "execution_count": 14,
     "metadata": {},
     "output_type": "execute_result"
    }
   ],
   "source": [
    "number = 3\n",
    "\"I eat %d apples.\"%number #변수도 넣을수있다."
   ]
  },
  {
   "cell_type": "code",
   "execution_count": 15,
   "id": "d262cf09-8964-4dc7-9870-bde2dda3882a",
   "metadata": {},
   "outputs": [
    {
     "data": {
      "text/plain": [
       "'I ate 10 apples,so I was sick for three days.'"
      ]
     },
     "execution_count": 15,
     "metadata": {},
     "output_type": "execute_result"
    }
   ],
   "source": [
    "number= 10\n",
    "day = \"three\"\n",
    "\"I ate %d apples,so I was sick for %s days.\"%(number,day) #변수2개도 처리가 가능하다."
   ]
  },
  {
   "cell_type": "code",
   "execution_count": 18,
   "id": "4861bf04-bf92-4523-8a2a-50d6133168f4",
   "metadata": {},
   "outputs": [
    {
     "data": {
      "text/plain": [
       "'Error is 98%.'"
      ]
     },
     "execution_count": 18,
     "metadata": {},
     "output_type": "execute_result"
    }
   ],
   "source": [
    "\"Error is %d%%.\"%98 #포맷코드와 문자 %를 같이 사용"
   ]
  },
  {
   "cell_type": "code",
   "execution_count": 21,
   "id": "b1621987-718c-4cb4-a6e5-6926bcfdf13b",
   "metadata": {},
   "outputs": [
    {
     "data": {
      "text/plain": [
       "'        hi'"
      ]
     },
     "execution_count": 21,
     "metadata": {},
     "output_type": "execute_result"
    }
   ],
   "source": [
    "a = \"%10s\"%\"hi\"#우측정렬이 기본\n",
    "a"
   ]
  },
  {
   "cell_type": "code",
   "execution_count": 22,
   "id": "7d981e59-4d07-408a-ae16-d400bba0b8c1",
   "metadata": {},
   "outputs": [
    {
     "data": {
      "text/plain": [
       "10"
      ]
     },
     "execution_count": 22,
     "metadata": {},
     "output_type": "execute_result"
    }
   ],
   "source": [
    "len(a)"
   ]
  },
  {
   "cell_type": "code",
   "execution_count": 24,
   "id": "bc7853d5-35af-4c5d-920e-42825696c111",
   "metadata": {},
   "outputs": [
    {
     "data": {
      "text/plain": [
       "'hi        jane.'"
      ]
     },
     "execution_count": 24,
     "metadata": {},
     "output_type": "execute_result"
    }
   ],
   "source": [
    "b= \"%-10sjane.\"%'hi'\n",
    "b"
   ]
  },
  {
   "cell_type": "code",
   "execution_count": 25,
   "id": "26d26877-3fb9-47af-a750-9915ef49c18e",
   "metadata": {},
   "outputs": [
    {
     "data": {
      "text/plain": [
       "15"
      ]
     },
     "execution_count": 25,
     "metadata": {},
     "output_type": "execute_result"
    }
   ],
   "source": [
    "len(b)"
   ]
  },
  {
   "cell_type": "code",
   "execution_count": 26,
   "id": "81fe1b46-1c21-49ba-b700-75a73e6fa306",
   "metadata": {},
   "outputs": [
    {
     "data": {
      "text/plain": [
       "'3.4213'"
      ]
     },
     "execution_count": 26,
     "metadata": {},
     "output_type": "execute_result"
    }
   ],
   "source": [
    "\"%0.4f\"%3.42134234"
   ]
  },
  {
   "cell_type": "code",
   "execution_count": 29,
   "id": "fbd55ed8-c7b2-4cc5-b319-432649065fb3",
   "metadata": {},
   "outputs": [
    {
     "data": {
      "text/plain": [
       "'    3.4213'"
      ]
     },
     "execution_count": 29,
     "metadata": {},
     "output_type": "execute_result"
    }
   ],
   "source": [
    "f = \"%10.4f\"%3.42134234\n",
    "f"
   ]
  },
  {
   "cell_type": "code",
   "execution_count": 30,
   "id": "137290d3-9154-4f88-b2e7-8f8c6fd6e4d3",
   "metadata": {},
   "outputs": [
    {
     "data": {
      "text/plain": [
       "10"
      ]
     },
     "execution_count": 30,
     "metadata": {},
     "output_type": "execute_result"
    }
   ],
   "source": [
    "len(f)"
   ]
  },
  {
   "cell_type": "code",
   "execution_count": 32,
   "id": "614d3acf-6928-48c1-a545-129e55b56693",
   "metadata": {},
   "outputs": [
    {
     "data": {
      "text/plain": [
       "'I eat 3 apples.'"
      ]
     },
     "execution_count": 32,
     "metadata": {},
     "output_type": "execute_result"
    }
   ],
   "source": [
    "\"I eat {} apples.\".format(3)"
   ]
  },
  {
   "cell_type": "code",
   "execution_count": 34,
   "id": "541d3b19-0bdd-4db3-9d4c-7debda9ff072",
   "metadata": {},
   "outputs": [
    {
     "data": {
      "text/plain": [
       "'I eat five apples.'"
      ]
     },
     "execution_count": 34,
     "metadata": {},
     "output_type": "execute_result"
    }
   ],
   "source": [
    "\"I eat {} apples.\".format(\"five\")"
   ]
  },
  {
   "cell_type": "code",
   "execution_count": 35,
   "id": "ed32185a-da5f-46d0-a73f-48edaad28e8b",
   "metadata": {},
   "outputs": [
    {
     "data": {
      "text/plain": [
       "'I eat 3 apples.'"
      ]
     },
     "execution_count": 35,
     "metadata": {},
     "output_type": "execute_result"
    }
   ],
   "source": [
    "number = 3\n",
    "\"I eat {} apples.\".format(number)"
   ]
  },
  {
   "cell_type": "code",
   "execution_count": 36,
   "id": "30006e79-a4d8-42cf-9c60-7e472213abbb",
   "metadata": {},
   "outputs": [
    {
     "data": {
      "text/plain": [
       "'I ate 10 apples, so I was sick for three days.'"
      ]
     },
     "execution_count": 36,
     "metadata": {},
     "output_type": "execute_result"
    }
   ],
   "source": [
    "\"I ate {} apples, so I was sick for {} days.\".format(10,\"three\")"
   ]
  },
  {
   "cell_type": "code",
   "execution_count": 57,
   "id": "c965fad3-f21f-4265-a693-ecdef9e56b71",
   "metadata": {},
   "outputs": [
    {
     "data": {
      "text/plain": [
       "'I ate three apples, so I was sick for 10 days.'"
      ]
     },
     "execution_count": 57,
     "metadata": {},
     "output_type": "execute_result"
    }
   ],
   "source": [
    "\"I ate {1} apples, so I was sick for {0} days.\".format(10,\"three\")  #인덱스를 부여하면 순서를 바꾸어서 집어넣을수도있다."
   ]
  },
  {
   "cell_type": "code",
   "execution_count": 38,
   "id": "7cd86eb8-e246-4b03-aed1-3d5a83032aef",
   "metadata": {},
   "outputs": [
    {
     "data": {
      "text/plain": [
       "'I ate 3 apples, so I was sick for three days.'"
      ]
     },
     "execution_count": 38,
     "metadata": {},
     "output_type": "execute_result"
    }
   ],
   "source": [
    "number=3\n",
    "day=\"three\"\n",
    "\"I ate {0} apples, so I was sick for {1} days.\".format(number,day)"
   ]
  },
  {
   "cell_type": "code",
   "execution_count": 40,
   "id": "6ea5fd8e-323b-44de-87ad-8c512ad8c107",
   "metadata": {},
   "outputs": [
    {
     "data": {
      "text/plain": [
       "'I ate 3 apples, so I was sick for three days.'"
      ]
     },
     "execution_count": 40,
     "metadata": {},
     "output_type": "execute_result"
    }
   ],
   "source": [
    "number=3\n",
    "day=\"three\"\n",
    "\"I ate {number} apples, so I was sick for {day} days.\".format(number=number,day=day)"
   ]
  },
  {
   "cell_type": "code",
   "execution_count": 44,
   "id": "93621af8-7359-4f22-95f9-3372a5695e43",
   "metadata": {},
   "outputs": [
    {
     "data": {
      "text/plain": [
       "'hi        '"
      ]
     },
     "execution_count": 44,
     "metadata": {},
     "output_type": "execute_result"
    }
   ],
   "source": [
    "\"{:10}\".format(\"hi\")\n",
    "\"{:<10}\".format(\"hi\") #기본이 왼쪽정렬"
   ]
  },
  {
   "cell_type": "code",
   "execution_count": 42,
   "id": "653ee420-99f4-4369-9e5a-685f0ca4e82b",
   "metadata": {},
   "outputs": [
    {
     "data": {
      "text/plain": [
       "'        hi'"
      ]
     },
     "execution_count": 42,
     "metadata": {},
     "output_type": "execute_result"
    }
   ],
   "source": [
    "\"{:>10}\".format(\"hi\")"
   ]
  },
  {
   "cell_type": "code",
   "execution_count": 45,
   "id": "6927d041-c478-458c-ab62-5dd97e3849f8",
   "metadata": {},
   "outputs": [
    {
     "data": {
      "text/plain": [
       "'    hi    '"
      ]
     },
     "execution_count": 45,
     "metadata": {},
     "output_type": "execute_result"
    }
   ],
   "source": [
    "\"{:^10}\".format(\"hi\")"
   ]
  },
  {
   "cell_type": "code",
   "execution_count": 58,
   "id": "492fca52-e462-430b-95fb-cb2148917703",
   "metadata": {},
   "outputs": [
    {
     "data": {
      "text/plain": [
       "'====hi===='"
      ]
     },
     "execution_count": 58,
     "metadata": {},
     "output_type": "execute_result"
    }
   ],
   "source": [
    "\"{:=^10}\".format(\"hi\") #공백대체문자는 정렬문자 앞 그리고 세미콜론뒤에 적는다."
   ]
  },
  {
   "cell_type": "code",
   "execution_count": 47,
   "id": "2361b6a2-5074-40f3-ae14-029f3f894ccb",
   "metadata": {},
   "outputs": [
    {
     "data": {
      "text/plain": [
       "'hi!!!!!!!!'"
      ]
     },
     "execution_count": 47,
     "metadata": {},
     "output_type": "execute_result"
    }
   ],
   "source": [
    "\"{:!<10}\".format(\"hi\")"
   ]
  },
  {
   "cell_type": "code",
   "execution_count": 48,
   "id": "44b5cc97-718e-4cd7-b021-98be2d832ba6",
   "metadata": {},
   "outputs": [
    {
     "data": {
      "text/plain": [
       "'3.4213'"
      ]
     },
     "execution_count": 48,
     "metadata": {},
     "output_type": "execute_result"
    }
   ],
   "source": [
    "y=3.42134234\n",
    "\"{:0.4f}\".format(y)"
   ]
  },
  {
   "cell_type": "code",
   "execution_count": 49,
   "id": "664b9963-8a4d-4c6d-a920-f922db9632e7",
   "metadata": {},
   "outputs": [
    {
     "data": {
      "text/plain": [
       "'    3.4213'"
      ]
     },
     "execution_count": 49,
     "metadata": {},
     "output_type": "execute_result"
    }
   ],
   "source": [
    "\"{:10.4f}\".format(y)"
   ]
  },
  {
   "cell_type": "code",
   "execution_count": 53,
   "id": "0ba2d4f6-a478-4719-b4ee-e21416014796",
   "metadata": {},
   "outputs": [
    {
     "data": {
      "text/plain": [
       "'{and}'"
      ]
     },
     "execution_count": 53,
     "metadata": {},
     "output_type": "execute_result"
    }
   ],
   "source": [
    "\"{{and}}\".format()#문자그대로 나타내려면 중괄호를 두번 작성한다."
   ]
  },
  {
   "cell_type": "code",
   "execution_count": 56,
   "id": "76a8717c-e8e8-4f78-9150-298186048998",
   "metadata": {},
   "outputs": [
    {
     "data": {
      "text/plain": [
       "'나의 이름은 홍길동입니다. 나이는 30입니다.'"
      ]
     },
     "execution_count": 56,
     "metadata": {},
     "output_type": "execute_result"
    }
   ],
   "source": [
    "name='홍길동'\n",
    "age=30\n",
    "f\"나의 이름은 {name}입니다. 나이는 {age}입니다.\" #파이썬 버전 3.6이상부터 "
   ]
  },
  {
   "cell_type": "code",
   "execution_count": 59,
   "id": "6d8164fc-1cd4-468c-8699-1456a4e31cc3",
   "metadata": {},
   "outputs": [
    {
     "data": {
      "text/plain": [
       "'나는 내년에 31살이 됩니다.'"
      ]
     },
     "execution_count": 59,
     "metadata": {},
     "output_type": "execute_result"
    }
   ],
   "source": [
    "age = 30\n",
    "f\"나는 내년에 {age+1}살이 됩니다.\""
   ]
  },
  {
   "cell_type": "code",
   "execution_count": 61,
   "id": "93773aba-a025-42ce-abda-8c4af7a767a4",
   "metadata": {},
   "outputs": [
    {
     "data": {
      "text/plain": [
       "'나의 이름은 홍길동입니다. 나이는 30입니다.'"
      ]
     },
     "execution_count": 61,
     "metadata": {},
     "output_type": "execute_result"
    }
   ],
   "source": [
    "d ={'name':'홍길동','age':30}\n",
    "f'나의 이름은 {d[\"name\"]}입니다. 나이는 {d[\"age\"]}입니다.' #f 포매팅함수는 dictionary 형태의 자료도 넣을수있다."
   ]
  },
  {
   "cell_type": "code",
   "execution_count": 63,
   "id": "0d36d1e9-33a1-49e5-a469-00c84fa855e6",
   "metadata": {},
   "outputs": [
    {
     "data": {
      "text/plain": [
       "'hi        '"
      ]
     },
     "execution_count": 63,
     "metadata": {},
     "output_type": "execute_result"
    }
   ],
   "source": [
    "f'{\"hi\":<10}'"
   ]
  },
  {
   "cell_type": "code",
   "execution_count": 64,
   "id": "2ad91bc5-8d85-42ec-9f3f-d0eeed300f3e",
   "metadata": {},
   "outputs": [
    {
     "data": {
      "text/plain": [
       "'        hi'"
      ]
     },
     "execution_count": 64,
     "metadata": {},
     "output_type": "execute_result"
    }
   ],
   "source": [
    "f'{\"hi\":>10}'"
   ]
  },
  {
   "cell_type": "code",
   "execution_count": 65,
   "id": "52cba039-5e95-4ab5-b4eb-2959c4c656ef",
   "metadata": {},
   "outputs": [
    {
     "data": {
      "text/plain": [
       "'    hi    '"
      ]
     },
     "execution_count": 65,
     "metadata": {},
     "output_type": "execute_result"
    }
   ],
   "source": [
    "f'{\"hi\":^10}'"
   ]
  },
  {
   "cell_type": "code",
   "execution_count": 66,
   "id": "788d3488-7bab-4b0b-af14-e5b78c969019",
   "metadata": {},
   "outputs": [
    {
     "data": {
      "text/plain": [
       "'====hi===='"
      ]
     },
     "execution_count": 66,
     "metadata": {},
     "output_type": "execute_result"
    }
   ],
   "source": [
    "f'{\"hi\":=^10}'"
   ]
  },
  {
   "cell_type": "code",
   "execution_count": 67,
   "id": "dab0c4d0-418c-4ba1-bda3-792e8005f346",
   "metadata": {},
   "outputs": [
    {
     "data": {
      "text/plain": [
       "'hi!!!!!!!!'"
      ]
     },
     "execution_count": 67,
     "metadata": {},
     "output_type": "execute_result"
    }
   ],
   "source": [
    "f'{\"hi\":!<10}'"
   ]
  },
  {
   "cell_type": "code",
   "execution_count": 68,
   "id": "be488e10-5183-4532-9abd-e32cc9156715",
   "metadata": {},
   "outputs": [
    {
     "data": {
      "text/plain": [
       "'3.4213'"
      ]
     },
     "execution_count": 68,
     "metadata": {},
     "output_type": "execute_result"
    }
   ],
   "source": [
    "y=3.42134234\n",
    "f'{y:0.4f}'"
   ]
  },
  {
   "cell_type": "code",
   "execution_count": 70,
   "id": "6baa811f-1e92-4c99-91b3-c71dba449622",
   "metadata": {},
   "outputs": [
    {
     "data": {
      "text/plain": [
       "'    3.4213'"
      ]
     },
     "execution_count": 70,
     "metadata": {},
     "output_type": "execute_result"
    }
   ],
   "source": [
    "f'{y:10.4f}'"
   ]
  },
  {
   "cell_type": "code",
   "execution_count": 71,
   "id": "96e96dad-1cdc-4f7c-bf94-6749b6ecadf8",
   "metadata": {},
   "outputs": [
    {
     "data": {
      "text/plain": [
       "'{and}'"
      ]
     },
     "execution_count": 71,
     "metadata": {},
     "output_type": "execute_result"
    }
   ],
   "source": [
    "f'{{and}}'"
   ]
  },
  {
   "cell_type": "markdown",
   "id": "a5dfada2-1e81-4dc1-96f3-e37d6e5cc99d",
   "metadata": {},
   "source": [
    "### 문자열 관련 함수들"
   ]
  },
  {
   "cell_type": "code",
   "execution_count": 74,
   "id": "f5811f0d-b981-4b5b-af00-4c5ac20c45d7",
   "metadata": {},
   "outputs": [
    {
     "data": {
      "text/plain": [
       "2"
      ]
     },
     "execution_count": 74,
     "metadata": {},
     "output_type": "execute_result"
    }
   ],
   "source": [
    "# count() :문자열안의 찾고자하는 문자세기\n",
    "c = \"hobby\"\n",
    "c.count(\"b\")"
   ]
  },
  {
   "cell_type": "code",
   "execution_count": 75,
   "id": "d64f9937-1a65-4769-84bc-2b0e19e7d71f",
   "metadata": {},
   "outputs": [
    {
     "data": {
      "text/plain": [
       "3"
      ]
     },
     "execution_count": 75,
     "metadata": {},
     "output_type": "execute_result"
    }
   ],
   "source": [
    "\"asdjfklajsdklfjasdklfjlk\".count(\"a\")"
   ]
  },
  {
   "cell_type": "code",
   "execution_count": 77,
   "id": "52763336-c08e-4c65-b70d-7358d496635d",
   "metadata": {},
   "outputs": [
    {
     "name": "stdout",
     "output_type": "stream",
     "text": [
      "14 14\n"
     ]
    }
   ],
   "source": [
    "# find() 위치찾기 함수\n",
    "# index()\n",
    "d = \"Python is the best choice\"\n",
    "e=d.find(\"b\")\n",
    "f=d.index(\"b\")\n",
    "print(e,f)"
   ]
  },
  {
   "cell_type": "code",
   "execution_count": 80,
   "id": "9f44467a-d74a-4a7b-aa1a-5243ebb8312f",
   "metadata": {},
   "outputs": [
    {
     "data": {
      "text/plain": [
       "-1"
      ]
     },
     "execution_count": 80,
     "metadata": {},
     "output_type": "execute_result"
    }
   ],
   "source": [
    "d.find(\"k\")  #find 함수는 찾고자하는 문자열이 없으면 -1 을 반환해주지만 index 함수는 오류를 반환한다."
   ]
  },
  {
   "cell_type": "code",
   "execution_count": 82,
   "id": "f5db4d56-1075-4038-8584-92499297717b",
   "metadata": {},
   "outputs": [
    {
     "data": {
      "text/plain": [
       "8"
      ]
     },
     "execution_count": 82,
     "metadata": {},
     "output_type": "execute_result"
    }
   ],
   "source": [
    "a = \"Life is too short\"\n",
    "a.index('t') #찾는 문자가 두개가 있지만 먼저 나오는 값의 주소를 반환한다."
   ]
  },
  {
   "cell_type": "code",
   "execution_count": 83,
   "id": "02e33c30-23a5-46b0-97a1-1283ce8cc094",
   "metadata": {},
   "outputs": [
    {
     "data": {
      "text/plain": [
       "'a,b,c,d'"
      ]
     },
     "execution_count": 83,
     "metadata": {},
     "output_type": "execute_result"
    }
   ],
   "source": [
    "#join() 문자열 삽입 함수\n",
    "\",\".join(\"abcd\")"
   ]
  },
  {
   "cell_type": "code",
   "execution_count": 86,
   "id": "2d4b1dbb-ee30-4512-ab1e-56ab18600c32",
   "metadata": {},
   "outputs": [
    {
     "data": {
      "text/plain": [
       "'a,b,c,d'"
      ]
     },
     "execution_count": 86,
     "metadata": {},
     "output_type": "execute_result"
    }
   ],
   "source": [
    "\",\".join(['a','b','c','d'])  #join 함수 사용시 list 함수에서 str 함수로 변환되어 저장된다."
   ]
  },
  {
   "cell_type": "code",
   "execution_count": 85,
   "id": "f8a22ad4-61aa-4afa-a3af-0f4113faf0bb",
   "metadata": {},
   "outputs": [
    {
     "name": "stdout",
     "output_type": "stream",
     "text": [
      "['a', 'b', 'c', 'd']\n",
      "<class 'list'>\n"
     ]
    }
   ],
   "source": [
    "list = ['a','b','c','d']\n",
    "print(list)\n",
    "print(type(list))"
   ]
  },
  {
   "cell_type": "code",
   "execution_count": 96,
   "id": "a0aab51c-4852-40f0-a210-e8cd803b1984",
   "metadata": {},
   "outputs": [
    {
     "data": {
      "text/plain": [
       "'abcd'"
      ]
     },
     "execution_count": 96,
     "metadata": {},
     "output_type": "execute_result"
    }
   ],
   "source": [
    "\"\".join(list)  "
   ]
  },
  {
   "cell_type": "code",
   "execution_count": 88,
   "id": "74ed8173-99f4-41ad-a93b-7499a370bdc7",
   "metadata": {},
   "outputs": [
    {
     "name": "stdout",
     "output_type": "stream",
     "text": [
      "HI\n",
      "hi\n"
     ]
    }
   ],
   "source": [
    "#upper(),lower() 소문자를 대문자 변환 관련 함수\n",
    "a= \"hi\" \n",
    "b=\"HI\"\n",
    "c=a.upper()\n",
    "d=b.lower()\n",
    "print(c)\n",
    "print(d)"
   ]
  },
  {
   "cell_type": "code",
   "execution_count": 97,
   "id": "214df187-8505-481f-948a-c588772711c9",
   "metadata": {},
   "outputs": [
    {
     "data": {
      "text/plain": [
       "'hi    '"
      ]
     },
     "execution_count": 97,
     "metadata": {},
     "output_type": "execute_result"
    }
   ],
   "source": [
    "# lstrip() 왼쪽,rstrip() 오른쪽,strip() 양쪽 공백지우기 관련함수\n",
    "a= \"    hi    \"\n",
    "b=a.lstrip()\n",
    "c=a.rstrip()\n",
    "d=a.strip()\n",
    "b"
   ]
  },
  {
   "cell_type": "code",
   "execution_count": 93,
   "id": "eeabb4a3-bfc9-4d82-9015-f72a7746bf4e",
   "metadata": {},
   "outputs": [
    {
     "data": {
      "text/plain": [
       "'    hi'"
      ]
     },
     "execution_count": 93,
     "metadata": {},
     "output_type": "execute_result"
    }
   ],
   "source": [
    "c"
   ]
  },
  {
   "cell_type": "code",
   "execution_count": 94,
   "id": "caa67bec-3559-4fee-b1a4-86ae41735fc0",
   "metadata": {},
   "outputs": [
    {
     "data": {
      "text/plain": [
       "'hi'"
      ]
     },
     "execution_count": 94,
     "metadata": {},
     "output_type": "execute_result"
    }
   ],
   "source": [
    "d"
   ]
  },
  {
   "cell_type": "code",
   "execution_count": 98,
   "id": "f2b3cdde-7cd8-4089-80ca-4dc3141d8e74",
   "metadata": {},
   "outputs": [
    {
     "data": {
      "text/plain": [
       "'Your leg is too short'"
      ]
     },
     "execution_count": 98,
     "metadata": {},
     "output_type": "execute_result"
    }
   ],
   "source": [
    "#replace() 문자열 바꾸기 함수\n",
    "\n",
    "\"Life is too short\".replace(\"Life\", \"Your leg\")"
   ]
  },
  {
   "cell_type": "code",
   "execution_count": 105,
   "id": "289015ce-56a3-49cd-af1a-64228b37340b",
   "metadata": {},
   "outputs": [
    {
     "name": "stdout",
     "output_type": "stream",
     "text": [
      "['Life', 'is', 'too', 'short']\n",
      "<class 'list'>\n"
     ]
    }
   ],
   "source": [
    "#split() 문자열 나누기 함수 list 형태로 반환한다.\n",
    "a = \"Life is too short\"\n",
    "b= a.split()\n",
    "print(b)\n",
    "print(type(b))"
   ]
  },
  {
   "cell_type": "code",
   "execution_count": 104,
   "id": "718f7ab5-3995-4943-b7f8-ffa5cb5ba1ff",
   "metadata": {},
   "outputs": [
    {
     "data": {
      "text/plain": [
       "'HI'"
      ]
     },
     "execution_count": 104,
     "metadata": {},
     "output_type": "execute_result"
    }
   ],
   "source": [
    "a = \"hi\" #함수의 사용으로 보여지는값이 바뀔뿐 원래의 값은 바뀌지않고 함수의 값을 사용하기위해서는 다른 변수에 저장해야한다.\n",
    "a.upper()"
   ]
  },
  {
   "cell_type": "code",
   "execution_count": 101,
   "id": "52e6a8d9-aa59-4603-8af7-221b83c71da6",
   "metadata": {},
   "outputs": [
    {
     "data": {
      "text/plain": [
       "'hi'"
      ]
     },
     "execution_count": 101,
     "metadata": {},
     "output_type": "execute_result"
    }
   ],
   "source": [
    "a"
   ]
  },
  {
   "cell_type": "code",
   "execution_count": 102,
   "id": "3919ac0b-cd09-44cb-99e9-9baa9693725b",
   "metadata": {},
   "outputs": [],
   "source": [
    "b=a.upper()"
   ]
  },
  {
   "cell_type": "code",
   "execution_count": 103,
   "id": "ccf977ee-1d92-4492-979e-eb7acd39267c",
   "metadata": {},
   "outputs": [
    {
     "name": "stdout",
     "output_type": "stream",
     "text": [
      "hi\n",
      "HI\n"
     ]
    }
   ],
   "source": [
    "print(a)\n",
    "print(b)"
   ]
  },
  {
   "cell_type": "code",
   "execution_count": null,
   "id": "b451e25e-59fd-4f21-8c91-ce7909bddf4a",
   "metadata": {},
   "outputs": [],
   "source": []
  }
 ],
 "metadata": {
  "kernelspec": {
   "display_name": "Python [conda env:base] *",
   "language": "python",
   "name": "conda-base-py"
  },
  "language_info": {
   "codemirror_mode": {
    "name": "ipython",
    "version": 3
   },
   "file_extension": ".py",
   "mimetype": "text/x-python",
   "name": "python",
   "nbconvert_exporter": "python",
   "pygments_lexer": "ipython3",
   "version": "3.13.5"
  }
 },
 "nbformat": 4,
 "nbformat_minor": 5
}
