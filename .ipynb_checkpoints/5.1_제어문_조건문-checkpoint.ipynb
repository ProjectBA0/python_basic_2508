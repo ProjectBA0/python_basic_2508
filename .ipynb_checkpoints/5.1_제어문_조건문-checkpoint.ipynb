{
 "cells": [
  {
   "cell_type": "markdown",
   "id": "cd195c77-2fe1-493f-a46e-1c0dcb5bdff7",
   "metadata": {},
   "source": [
    "## 1.if문의 기본 구조"
   ]
  },
  {
   "cell_type": "code",
   "execution_count": 4,
   "id": "28670549-1550-4867-965a-b982141db54e",
   "metadata": {},
   "outputs": [
    {
     "name": "stdout",
     "output_type": "stream",
     "text": [
      "택시를 \n",
      "타고\n",
      "가라\n"
     ]
    }
   ],
   "source": [
    "money = True\n",
    "if money:\n",
    "    print(\"택시를 \")\n",
    "    print(\"타고\") #만약 타고를 들여쓰기를 하지않는다면 들여쓰기한 가라에대한 처리가 없으므로 오류가 발생한다.\n",
    "    print(\"가라\")\n",
    "    "
   ]
  },
  {
   "cell_type": "code",
   "execution_count": 5,
   "id": "3e73bb9b-34eb-475a-9f4e-7587f03979e2",
   "metadata": {},
   "outputs": [
    {
     "ename": "SyntaxError",
     "evalue": "expected ':' (2092479946.py, line 1)",
     "output_type": "error",
     "traceback": [
      "\u001b[1;36m  Cell \u001b[1;32mIn[5], line 1\u001b[1;36m\u001b[0m\n\u001b[1;33m    if money\u001b[0m\n\u001b[1;37m            ^\u001b[0m\n\u001b[1;31mSyntaxError\u001b[0m\u001b[1;31m:\u001b[0m expected ':'\n"
     ]
    }
   ],
   "source": [
    "if money\n",
    "    print(\"택시를 타고\")\n",
    "    "
   ]
  },
  {
   "cell_type": "markdown",
   "id": "2658b6dd-307b-4061-ac17-93a8c67417f6",
   "metadata": {},
   "source": [
    "## 2.비교 연산자"
   ]
  },
  {
   "cell_type": "code",
   "execution_count": 8,
   "id": "592dc71f-bcdc-4414-8712-abec1d675e81",
   "metadata": {},
   "outputs": [
    {
     "name": "stdout",
     "output_type": "stream",
     "text": [
      "True\n",
      "False\n",
      "False\n",
      "True\n"
     ]
    }
   ],
   "source": [
    "# x <y  ,x > y , x==y , x !=y , x >=y , x <=y 비교연산자\n",
    "\n",
    "x = 3\n",
    "y = 2\n",
    "\n",
    "print(x > y) #True\n",
    "print(x < y) #False\n",
    "print(x == y) #False\n",
    "print(x != y) #True"
   ]
  },
  {
   "cell_type": "code",
   "execution_count": 9,
   "id": "eec34ebe-1d2e-4929-a1e5-20a87223084d",
   "metadata": {},
   "outputs": [
    {
     "name": "stdout",
     "output_type": "stream",
     "text": [
      "걸어가라\n"
     ]
    }
   ],
   "source": [
    "money = 2000\n",
    "if money >=3000:\n",
    "    print(\"택시를 타고 가라\")\n",
    "else:\n",
    "    print(\"걸어가라\")"
   ]
  },
  {
   "cell_type": "code",
   "execution_count": 10,
   "id": "5d7f4843-7825-42e2-9599-f88e89566213",
   "metadata": {},
   "outputs": [
    {
     "name": "stdout",
     "output_type": "stream",
     "text": [
      "택시를 타고 가라\n"
     ]
    }
   ],
   "source": [
    "money = 5000\n",
    "if money >=3000:\n",
    "    print(\"택시를 타고 가라\")\n",
    "else:\n",
    "    print(\"걸어가라\")"
   ]
  },
  {
   "cell_type": "code",
   "execution_count": 11,
   "id": "1e00ad79-87ed-4d70-b279-4e816240ab61",
   "metadata": {},
   "outputs": [
    {
     "name": "stdout",
     "output_type": "stream",
     "text": [
      "택시를 타고 가라\n"
     ]
    }
   ],
   "source": [
    "# 논리 연산자\n",
    "# 조건식 x, y >= and 둘다 True 일 때 True\n",
    "# 조건식 x, y     or 하나만 True이면 True\n",
    "#                not True->False False->True\n",
    "\n",
    "money = 2000\n",
    "card = True\n",
    "if money >=3000 or card:\n",
    "    print(\"택시를 타고 가라\")\n",
    "else:\n",
    "    print(\"걸어가라\")"
   ]
  },
  {
   "cell_type": "code",
   "execution_count": 12,
   "id": "2f8bbcb4-281f-40e5-83c7-c00f56b9c84e",
   "metadata": {},
   "outputs": [
    {
     "data": {
      "text/plain": [
       "True"
      ]
     },
     "execution_count": 12,
     "metadata": {},
     "output_type": "execute_result"
    }
   ],
   "source": [
    "# in, not in\n",
    "1 in [1,2,3]"
   ]
  },
  {
   "cell_type": "code",
   "execution_count": 13,
   "id": "35998a64-efa3-46ca-826d-714a30412420",
   "metadata": {},
   "outputs": [
    {
     "data": {
      "text/plain": [
       "False"
      ]
     },
     "execution_count": 13,
     "metadata": {},
     "output_type": "execute_result"
    }
   ],
   "source": [
    "1 not in [1,2,3]"
   ]
  },
  {
   "cell_type": "code",
   "execution_count": 15,
   "id": "8094f4eb-8e9c-4de0-941e-fdba472894e4",
   "metadata": {},
   "outputs": [
    {
     "data": {
      "text/plain": [
       "False"
      ]
     },
     "execution_count": 15,
     "metadata": {},
     "output_type": "execute_result"
    }
   ],
   "source": [
    "'a' in ('a','b','c')\n",
    "'d' in ('a','b','c')"
   ]
  },
  {
   "cell_type": "code",
   "execution_count": 20,
   "id": "baf3b937-c124-4a64-a176-325b14a7dd6e",
   "metadata": {},
   "outputs": [
    {
     "name": "stdout",
     "output_type": "stream",
     "text": [
      "택시를 타고 가라\n"
     ]
    }
   ],
   "source": [
    "pocket = ['paper','cellphone','money']\n",
    "if 'money' in pocket:\n",
    "    print(\"택시를 타고 가라\")\n",
    "else:\n",
    "    print(\"걸어가라\")\n",
    "        "
   ]
  },
  {
   "cell_type": "code",
   "execution_count": 21,
   "id": "ba222b4a-cac5-4821-ac57-91d9324a2be5",
   "metadata": {},
   "outputs": [],
   "source": [
    "pocket = ['paper','cellphone','money']\n",
    "if 'money' in pocket:\n",
    "    pass\n",
    "else:\n",
    "    print(\"카드를 꺼내라\")"
   ]
  },
  {
   "cell_type": "markdown",
   "id": "7cf50162-d0fe-4692-85a3-fb24b4bf044b",
   "metadata": {},
   "source": [
    "## 3. 다양한 조건을 판단하는 elif"
   ]
  },
  {
   "cell_type": "code",
   "execution_count": 22,
   "id": "07334786-de85-49f4-bb09-23ca3f15daa3",
   "metadata": {},
   "outputs": [
    {
     "name": "stdout",
     "output_type": "stream",
     "text": [
      "택시를 타고 가라\n"
     ]
    }
   ],
   "source": [
    "#if, else만으로 표현\n",
    "pocket = ['paper','cellphone']\n",
    "card = True\n",
    "\n",
    "if 'money' in pocket:\n",
    "    print(\"택시를 타고 가라\")\n",
    "else:\n",
    "    if card:\n",
    "        print(\"택시를 타고 가라\")\n",
    "    else:\n",
    "        print(\"걸어가라\")"
   ]
  },
  {
   "cell_type": "code",
   "execution_count": 25,
   "id": "2ca99750-1673-47e9-b053-83cf0e69139e",
   "metadata": {},
   "outputs": [
    {
     "name": "stdout",
     "output_type": "stream",
     "text": [
      "택시를 타고 가라\n"
     ]
    }
   ],
   "source": [
    "# elif 사용\n",
    "pocket = ['paper','cellphone']\n",
    "card = True\n",
    "\n",
    "if 'money' in pocket:\n",
    "    print(\"택시를 타고 가라\")\n",
    "elif card:\n",
    "    print(\"택시를 타고 가라\")\n",
    "else:\n",
    "    print(\"걸어가라\")"
   ]
  },
  {
   "cell_type": "code",
   "execution_count": 26,
   "id": "b027ee78-1712-4ac5-95d9-2a79fcb84ef4",
   "metadata": {},
   "outputs": [
    {
     "name": "stdout",
     "output_type": "stream",
     "text": [
      "D\n"
     ]
    }
   ],
   "source": [
    "math = 60\n",
    "if math>=90:\n",
    "    print('A')\n",
    "elif math>=80:\n",
    "    print('B')\n",
    "elif math>=70:\n",
    "    print('C')\n",
    "elif math>=60:\n",
    "    print('D')\n",
    "else:\n",
    "    print('F')"
   ]
  },
  {
   "cell_type": "code",
   "execution_count": 27,
   "id": "08dd55e6-c1f3-4fcf-aebe-1100ed5754bc",
   "metadata": {},
   "outputs": [],
   "source": [
    "#if문 한줄로 작성하기\n",
    "\n",
    "pocket = ['paper','cellphone','money']\n",
    "if 'money' in pocket: pass\n",
    "else: print(\"카드를 꺼내라\")"
   ]
  },
  {
   "cell_type": "markdown",
   "id": "d4ef51d2-111d-44a5-9930-a2d9992cacd1",
   "metadata": {},
   "source": [
    "## 4. 조건부 표현식"
   ]
  },
  {
   "cell_type": "code",
   "execution_count": 31,
   "id": "a3757254-631b-474c-ac9f-7c84f38796bb",
   "metadata": {},
   "outputs": [
    {
     "name": "stdout",
     "output_type": "stream",
     "text": [
      "success\n"
     ]
    }
   ],
   "source": [
    "# if /else문\n",
    "score = 70\n",
    "if score >= 60:\n",
    "    message=\"success\"\n",
    "else:\n",
    "    message=\"failure\"\n",
    "\n",
    "print(message)"
   ]
  },
  {
   "cell_type": "code",
   "execution_count": 36,
   "id": "3eb65727-ef12-459f-9b90-6493111ce97a",
   "metadata": {},
   "outputs": [
    {
     "name": "stdout",
     "output_type": "stream",
     "text": [
      "success\n"
     ]
    }
   ],
   "source": [
    "# 조건부 표현식 (한줄로 표현하고자할때)\n",
    "\n",
    "message=\"success\" if score >= 60 else \"failure\"  # 변수 = 결과값 if 조건 else 결과값\n",
    "print(message)"
   ]
  },
  {
   "cell_type": "code",
   "execution_count": null,
   "id": "257e83bd-b7d5-4285-be2b-c50f3acc999d",
   "metadata": {},
   "outputs": [],
   "source": []
  }
 ],
 "metadata": {
  "kernelspec": {
   "display_name": "Python [conda env:base] *",
   "language": "python",
   "name": "conda-base-py"
  },
  "language_info": {
   "codemirror_mode": {
    "name": "ipython",
    "version": 3
   },
   "file_extension": ".py",
   "mimetype": "text/x-python",
   "name": "python",
   "nbconvert_exporter": "python",
   "pygments_lexer": "ipython3",
   "version": "3.13.5"
  }
 },
 "nbformat": 4,
 "nbformat_minor": 5
}
