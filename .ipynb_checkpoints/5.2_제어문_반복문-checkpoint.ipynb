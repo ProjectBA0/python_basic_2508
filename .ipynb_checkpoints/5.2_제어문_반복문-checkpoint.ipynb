{
 "cells": [
  {
   "cell_type": "markdown",
   "id": "a092f71a-c5e2-49b5-81f2-93041dd4eb21",
   "metadata": {},
   "source": [
    "## 1. while문"
   ]
  },
  {
   "cell_type": "code",
   "execution_count": null,
   "id": "56b1ab97-0b44-439d-8cf4-b5a48d3114b7",
   "metadata": {},
   "outputs": [],
   "source": [
    "treeHit = 0\n",
    "\n",
    "while treeHit<10:\n",
    "    treeHit += 1\n",
    "    print(\"나무를 %d번 찍었습니다.\" %treeHit )\n",
    "\n",
    "    if treeHit == 10:\n",
    "        print(\"나무 넘어갑니다.\")"
   ]
  },
  {
   "cell_type": "code",
   "execution_count": null,
   "id": "39224c51-327b-4054-83e4-35b4cb12138c",
   "metadata": {},
   "outputs": [],
   "source": [
    "prompt =\"\"\"\n",
    "1.Add\n",
    "2.Del\n",
    "3.List\n",
    "4.Quit\n",
    "\n",
    "Enter number:\"\"\""
   ]
  },
  {
   "cell_type": "code",
   "execution_count": null,
   "id": "1fd3dd15-2a4b-4617-aef3-755d45612caf",
   "metadata": {},
   "outputs": [],
   "source": [
    "number=0\n",
    "while number !=4:\n",
    "    print(prompt)\n",
    "    number=int(input())\n",
    "    "
   ]
  },
  {
   "cell_type": "code",
   "execution_count": null,
   "id": "0aeff8f9-84ee-4e33-b8da-d06446e4e8b8",
   "metadata": {},
   "outputs": [],
   "source": [
    "print(prompt)"
   ]
  },
  {
   "cell_type": "code",
   "execution_count": null,
   "id": "cd9d7201-5d5e-4c5b-8772-bac2afff4de0",
   "metadata": {},
   "outputs": [],
   "source": []
  }
 ],
 "metadata": {
  "kernelspec": {
   "display_name": "Python [conda env:base] *",
   "language": "python",
   "name": "conda-base-py"
  },
  "language_info": {
   "codemirror_mode": {
    "name": "ipython",
    "version": 3
   },
   "file_extension": ".py",
   "mimetype": "text/x-python",
   "name": "python",
   "nbconvert_exporter": "python",
   "pygments_lexer": "ipython3",
   "version": "3.13.5"
  }
 },
 "nbformat": 4,
 "nbformat_minor": 5
}
