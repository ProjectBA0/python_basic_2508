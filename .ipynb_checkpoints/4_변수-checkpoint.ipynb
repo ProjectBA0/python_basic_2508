{
 "cells": [
  {
   "cell_type": "markdown",
   "id": "a1f1ce05-7256-4e91-aac4-a47535b915e0",
   "metadata": {},
   "source": [
    "# 1. 변수란?"
   ]
  },
  {
   "cell_type": "code",
   "execution_count": 1,
   "id": "1e6c03ea-e1d5-408f-a77c-a61b7f7b699b",
   "metadata": {},
   "outputs": [],
   "source": [
    "a=[1,2,3]"
   ]
  },
  {
   "cell_type": "code",
   "execution_count": 2,
   "id": "4a630100-4ea5-4cf8-97bc-2a371f259183",
   "metadata": {},
   "outputs": [
    {
     "data": {
      "text/plain": [
       "1604259006720"
      ]
     },
     "execution_count": 2,
     "metadata": {},
     "output_type": "execute_result"
    }
   ],
   "source": [
    "id(a)"
   ]
  },
  {
   "cell_type": "code",
   "execution_count": 3,
   "id": "06f2d082-8cc9-4542-ad55-86e3d7a03087",
   "metadata": {},
   "outputs": [
    {
     "name": "stdout",
     "output_type": "stream",
     "text": [
      "140733909610464\n",
      "140733909610464\n"
     ]
    }
   ],
   "source": [
    "string =\"a\"\n",
    "string2 =string\n",
    "print(id(string))\n",
    "print(id(string2))"
   ]
  },
  {
   "cell_type": "code",
   "execution_count": 4,
   "id": "20a340b4-b97b-4753-ad3d-215b4e380dfc",
   "metadata": {},
   "outputs": [
    {
     "data": {
      "text/plain": [
       "[1, 2, 3]"
      ]
     },
     "execution_count": 4,
     "metadata": {},
     "output_type": "execute_result"
    }
   ],
   "source": [
    "b = a\n",
    "b"
   ]
  },
  {
   "cell_type": "code",
   "execution_count": 5,
   "id": "15c0d172-9395-493b-bd69-7d405ad5e9ec",
   "metadata": {},
   "outputs": [
    {
     "name": "stdout",
     "output_type": "stream",
     "text": [
      "1604259006720\n",
      "1604259006720\n"
     ]
    }
   ],
   "source": [
    "print(id(a))\n",
    "print(id(b))"
   ]
  },
  {
   "cell_type": "code",
   "execution_count": 6,
   "id": "6eca7984-cb61-436e-bf14-61dcab0e3065",
   "metadata": {},
   "outputs": [],
   "source": [
    "a[1] = 4"
   ]
  },
  {
   "cell_type": "code",
   "execution_count": 7,
   "id": "08daa56a-4681-41ab-af63-7a32da3ad4f9",
   "metadata": {},
   "outputs": [
    {
     "data": {
      "text/plain": [
       "[1, 4, 3]"
      ]
     },
     "execution_count": 7,
     "metadata": {},
     "output_type": "execute_result"
    }
   ],
   "source": [
    "a"
   ]
  },
  {
   "cell_type": "code",
   "execution_count": 8,
   "id": "6eeceeb9-742d-48fc-952e-31764df858d9",
   "metadata": {},
   "outputs": [
    {
     "data": {
      "text/plain": [
       "[1, 4, 3]"
      ]
     },
     "execution_count": 8,
     "metadata": {},
     "output_type": "execute_result"
    }
   ],
   "source": [
    "b"
   ]
  },
  {
   "cell_type": "code",
   "execution_count": 9,
   "id": "3066ec68-0b41-41ac-9940-59c0ea9db116",
   "metadata": {},
   "outputs": [
    {
     "data": {
      "text/plain": [
       "True"
      ]
     },
     "execution_count": 9,
     "metadata": {},
     "output_type": "execute_result"
    }
   ],
   "source": [
    "a is b"
   ]
  },
  {
   "cell_type": "markdown",
   "id": "8435a136-ff50-4d28-a570-c0536128dde8",
   "metadata": {},
   "source": [
    "### b변수를 생성할때 a 변수의 값을 가져오면 a와는 다른 주소를 가르키도록 하려면?"
   ]
  },
  {
   "cell_type": "code",
   "execution_count": 14,
   "id": "4ae97e36-8919-4d6a-bcc3-1d9406a1cccc",
   "metadata": {},
   "outputs": [
    {
     "data": {
      "text/plain": [
       "[1, 2, 3]"
      ]
     },
     "execution_count": 14,
     "metadata": {},
     "output_type": "execute_result"
    }
   ],
   "source": [
    "a = [1,2,3]\n",
    "b = a[:]\n",
    "b         # [:] 이용하기"
   ]
  },
  {
   "cell_type": "code",
   "execution_count": 13,
   "id": "3f7175aa-f6a3-42e5-89be-aea2fb37a1a5",
   "metadata": {},
   "outputs": [
    {
     "name": "stdout",
     "output_type": "stream",
     "text": [
      "1604299560512\n",
      "1604299565312\n"
     ]
    }
   ],
   "source": [
    "print(id(a))\n",
    "print(id(b))   #슬라이싱하여 복사한값은 주소가 다름"
   ]
  },
  {
   "cell_type": "code",
   "execution_count": 15,
   "id": "d420792e-ed54-4a96-b11d-244273826345",
   "metadata": {},
   "outputs": [
    {
     "name": "stdout",
     "output_type": "stream",
     "text": [
      "[1, 4, 3]\n",
      "[1, 2, 3]\n"
     ]
    }
   ],
   "source": [
    "a[1]=4\n",
    "print(a)\n",
    "print(b)"
   ]
  },
  {
   "cell_type": "code",
   "execution_count": 16,
   "id": "ce9c27db-1ab1-40bc-832f-4add4d85b083",
   "metadata": {},
   "outputs": [],
   "source": [
    "from copy import copy"
   ]
  },
  {
   "cell_type": "code",
   "execution_count": 17,
   "id": "9f150758-71b4-4fc8-93c0-6329e9420583",
   "metadata": {},
   "outputs": [],
   "source": [
    "c=copy(a)\n",
    "d=a.copy()   #copy 함수 사용하여 복사"
   ]
  },
  {
   "cell_type": "code",
   "execution_count": 21,
   "id": "2a99f9b0-f3a2-488e-910b-4534e664aeba",
   "metadata": {},
   "outputs": [
    {
     "data": {
      "text/plain": [
       "False"
      ]
     },
     "execution_count": 21,
     "metadata": {},
     "output_type": "execute_result"
    }
   ],
   "source": [
    "c is a"
   ]
  },
  {
   "cell_type": "code",
   "execution_count": 22,
   "id": "04ea833c-c1b8-4681-a67b-afb4316389bb",
   "metadata": {},
   "outputs": [
    {
     "data": {
      "text/plain": [
       "False"
      ]
     },
     "execution_count": 22,
     "metadata": {},
     "output_type": "execute_result"
    }
   ],
   "source": [
    "d is a"
   ]
  },
  {
   "cell_type": "code",
   "execution_count": 20,
   "id": "a69681b3-6160-4244-8dd6-069a4a0e144a",
   "metadata": {},
   "outputs": [],
   "source": [
    "# copy 모듈 이용하기 카피모듈안에서 카피함수를 호출하여 사용\n",
    "from copy import copy  "
   ]
  },
  {
   "cell_type": "markdown",
   "id": "7ea446d8-6885-4527-82cd-25a9e1cc7078",
   "metadata": {},
   "source": [
    "### 3.변수 만드는 여러가지 방법"
   ]
  },
  {
   "cell_type": "code",
   "execution_count": 23,
   "id": "9be64ccf-e3ba-4e0b-b87e-88b7142e4f7e",
   "metadata": {},
   "outputs": [
    {
     "name": "stdout",
     "output_type": "stream",
     "text": [
      "python\n",
      "life\n"
     ]
    }
   ],
   "source": [
    "# 튜플로 만들기\n",
    "a , b =('python','life')\n",
    "print(a)\n",
    "print(b)"
   ]
  },
  {
   "cell_type": "code",
   "execution_count": 26,
   "id": "8ae05ff4-a665-4941-9b22-b683a6d53947",
   "metadata": {},
   "outputs": [
    {
     "name": "stdout",
     "output_type": "stream",
     "text": [
      "a\n",
      "b\n"
     ]
    }
   ],
   "source": [
    "a,b ='a','b'\n",
    "print(a)\n",
    "print(b)"
   ]
  },
  {
   "cell_type": "code",
   "execution_count": 27,
   "id": "cb7dab14-6e6f-4796-9615-dcc69b6193ea",
   "metadata": {},
   "outputs": [
    {
     "name": "stdout",
     "output_type": "stream",
     "text": [
      "python\n",
      "life\n"
     ]
    }
   ],
   "source": [
    "# 리스트로 변수 만들기\n",
    "[a,b] = ['python','life']\n",
    "print(a)\n",
    "print(b)"
   ]
  },
  {
   "cell_type": "code",
   "execution_count": 29,
   "id": "d6ac327d-39d5-4244-be38-5dd730438ed9",
   "metadata": {},
   "outputs": [
    {
     "name": "stdout",
     "output_type": "stream",
     "text": [
      "python\n",
      "python\n",
      "1606306752832\n",
      "1606306752832\n"
     ]
    }
   ],
   "source": [
    "#여러개 변수에 같은 값 대입\n",
    "a = b = 'python'\n",
    "print(a)\n",
    "print(b)\n",
    "print(id(a))\n",
    "print(id(b))\n"
   ]
  },
  {
   "cell_type": "code",
   "execution_count": 30,
   "id": "6c28d549-bb04-454c-9c84-01c3580ee842",
   "metadata": {},
   "outputs": [
    {
     "name": "stdout",
     "output_type": "stream",
     "text": [
      "[5, 2, 3]\n",
      "[5, 2, 3]\n",
      "1604299500544\n",
      "1604299500544\n"
     ]
    }
   ],
   "source": [
    "a = b =[1,2,3]\n",
    "a[0] = 5\n",
    "print(a)\n",
    "print(b)\n",
    "print(id(a))\n",
    "print(id(b))\n"
   ]
  },
  {
   "cell_type": "code",
   "execution_count": 31,
   "id": "7f2ebbd7-a6d3-461e-9091-1b3c99ea974e",
   "metadata": {},
   "outputs": [
    {
     "name": "stdout",
     "output_type": "stream",
     "text": [
      "5\n",
      "3\n"
     ]
    }
   ],
   "source": [
    "#두 변수의 값 바꾸기 (파이썬 고유기능)\n",
    "a = 3\n",
    "b = 5\n",
    "a,b = b,a\n",
    "print(a)\n",
    "print(b)"
   ]
  },
  {
   "cell_type": "code",
   "execution_count": null,
   "id": "672593e3-3983-4232-a1e6-32efdfaed7c1",
   "metadata": {},
   "outputs": [],
   "source": []
  }
 ],
 "metadata": {
  "kernelspec": {
   "display_name": "Python [conda env:base] *",
   "language": "python",
   "name": "conda-base-py"
  },
  "language_info": {
   "codemirror_mode": {
    "name": "ipython",
    "version": 3
   },
   "file_extension": ".py",
   "mimetype": "text/x-python",
   "name": "python",
   "nbconvert_exporter": "python",
   "pygments_lexer": "ipython3",
   "version": "3.13.5"
  }
 },
 "nbformat": 4,
 "nbformat_minor": 5
}
