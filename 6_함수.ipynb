{
 "cells": [
  {
   "cell_type": "markdown",
   "id": "a7fec8fb-0da8-4d2c-bb79-4fc797615682",
   "metadata": {},
   "source": [
    "## 1. 파이썬 함수"
   ]
  },
  {
   "cell_type": "code",
   "execution_count": 3,
   "id": "31421d20-eb80-4c73-8698-84aff70e33cb",
   "metadata": {},
   "outputs": [
    {
     "name": "stdout",
     "output_type": "stream",
     "text": [
      "7\n",
      "333\n"
     ]
    }
   ],
   "source": [
    "def add(a,b):\n",
    "    return a+b\n",
    "\n",
    "a,b = 3,4\n",
    "c = add(a,b)\n",
    "print(c)\n",
    "\n",
    "d = add(111,222)\n",
    "print(d)"
   ]
  },
  {
   "cell_type": "code",
   "execution_count": 4,
   "id": "62958459-fbc9-4252-8160-dd504b99bdb1",
   "metadata": {},
   "outputs": [
    {
     "name": "stdout",
     "output_type": "stream",
     "text": [
      "7\n",
      "333\n"
     ]
    }
   ],
   "source": [
    "def add(a,b): # 리턴값없음\n",
    "    print(a+b)\n",
    "\n",
    "a,b = 3,4\n",
    "c = add(a,b)\n",
    "#print(c)\n",
    "\n",
    "d = add(111,222)\n",
    "#print(d)"
   ]
  },
  {
   "cell_type": "code",
   "execution_count": 5,
   "id": "cb857d24-1d52-4b9e-a6a3-f40d9b6bd1ec",
   "metadata": {},
   "outputs": [
    {
     "name": "stdout",
     "output_type": "stream",
     "text": [
      "6\n"
     ]
    }
   ],
   "source": [
    "# 1. 매개변수 True , 리턴값 True\n",
    "\n",
    "def minus(a,b):\n",
    "    result = a - b\n",
    "    return result\n",
    "\n",
    "a = minus(10,4)\n",
    "print(a)"
   ]
  },
  {
   "cell_type": "code",
   "execution_count": 6,
   "id": "420c4e21-9be6-424e-bc2e-da127eceb6e1",
   "metadata": {},
   "outputs": [
    {
     "name": "stdout",
     "output_type": "stream",
     "text": [
      "Hi!\n"
     ]
    }
   ],
   "source": [
    "# 2. 매개변수 False 리턴값 True\n",
    "\n",
    "def say():\n",
    "    return 'Hi!'\n",
    "\n",
    "print(say())\n",
    "a=say()"
   ]
  },
  {
   "cell_type": "code",
   "execution_count": 9,
   "id": "a86fe9f8-b24b-4a4d-b057-89b39b52a690",
   "metadata": {},
   "outputs": [
    {
     "name": "stdout",
     "output_type": "stream",
     "text": [
      "12, 24의 합은 36입니다.\n",
      "12, 24의 합은 36입니다.\n",
      "None\n"
     ]
    }
   ],
   "source": [
    "# 3. 매개변수 True 리턴값 False\n",
    "def add(x,y):\n",
    "    print(\"%d, %d의 합은 %d입니다.\"%(x,y,x+y))\n",
    "\n",
    "add(12,24)\n",
    "a= add(12,24)\n",
    "print(a) #하지만 리턴값이 없기때문에 변수에 저장은 되지않는다."
   ]
  },
  {
   "cell_type": "code",
   "execution_count": 12,
   "id": "1e491adb-b847-486c-8a35-0c1b7e8aff0e",
   "metadata": {},
   "outputs": [
    {
     "name": "stdout",
     "output_type": "stream",
     "text": [
      "Hi!\n"
     ]
    }
   ],
   "source": [
    "# 4. 매개변수 False 리턴값 False\n",
    "def say():\n",
    "    print('Hi!')\n",
    "\n",
    "say()"
   ]
  },
  {
   "cell_type": "code",
   "execution_count": 14,
   "id": "442b4c11-6eda-4007-a81d-4ddc13f4f61c",
   "metadata": {},
   "outputs": [
    {
     "name": "stdout",
     "output_type": "stream",
     "text": [
      "4\n",
      "4\n"
     ]
    }
   ],
   "source": [
    "# 키워드 매개변수 (매개변수를 지정하여 전달하기)\n",
    "def sub(a, b):\n",
    "    return a - b\n",
    "result = sub(7, 3)\n",
    "print(result)\n",
    "\n",
    "result2 = sub(b=3, a=7)\n",
    "print(result2)"
   ]
  },
  {
   "cell_type": "code",
   "execution_count": 20,
   "id": "c650edd6-da7c-4513-8572-34b1100f7fc4",
   "metadata": {},
   "outputs": [
    {
     "name": "stdout",
     "output_type": "stream",
     "text": [
      "15\n",
      "55\n"
     ]
    }
   ],
   "source": [
    "# 가변 매개변수(*매개변수명)\n",
    "def add_many(*args):\n",
    "    result = 0\n",
    "    for i in args:\n",
    "        result+= i\n",
    "    return result\n",
    "        \n",
    "a= add_many(1,2,3,4,5)\n",
    "print(a)\n",
    "b= add_many(1,2,3,4,5,6,7,8,9,10)\n",
    "print(b)"
   ]
  },
  {
   "cell_type": "code",
   "execution_count": 23,
   "id": "2c3fd844-b9ac-4a9c-8362-d99c7cce8b89",
   "metadata": {},
   "outputs": [
    {
     "name": "stdout",
     "output_type": "stream",
     "text": [
      "6\n",
      "120\n"
     ]
    }
   ],
   "source": [
    "def add_mul(choice, *args):\n",
    "    if choice ==\"add\":\n",
    "        result = 0\n",
    "        for i in args:\n",
    "            result += i\n",
    "    elif choice == \"mul\":\n",
    "        result = 1\n",
    "        for i in args:\n",
    "            result *= i\n",
    "    return result\n",
    "\n",
    "res1 = add_mul('add',1,2,3)\n",
    "print(res1)\n",
    "\n",
    "res2 = add_mul('mul',1,2,3,4,5)\n",
    "print(res2)\n",
    "            "
   ]
  },
  {
   "cell_type": "code",
   "execution_count": 24,
   "id": "a055caa9-fff3-4414-964b-4f82a1a6ebdc",
   "metadata": {},
   "outputs": [
    {
     "name": "stdout",
     "output_type": "stream",
     "text": [
      "{'a': 1, 'name': 'foo', 'age': 3}\n"
     ]
    }
   ],
   "source": [
    "# 키워드 가변 매개변수(**매개변수)\n",
    "\n",
    "def print_kwargs(**kwargs):\n",
    "    print(kwargs)\n",
    "\n",
    "print_kwargs(a=1,name='foo',age=3)"
   ]
  },
  {
   "cell_type": "code",
   "execution_count": 27,
   "id": "474b8724-07a9-4cf6-8343-79be8e09c74b",
   "metadata": {},
   "outputs": [
    {
     "name": "stdout",
     "output_type": "stream",
     "text": [
      "(7, 12)\n",
      "a+b = 7\n",
      "a+b = 12\n"
     ]
    }
   ],
   "source": [
    "# 함수의 리턴값은 하나!!\n",
    "def add_and_mul(a,b):\n",
    "    return a+b, a*b\n",
    "\n",
    "res =add_and_mul(3,4)\n",
    "print(res)\n",
    "\n",
    "res1, res2 = add_and_mul(3,4)\n",
    "print(\"a+b =\",res1)\n",
    "print(\"a+b =\",res2)"
   ]
  },
  {
   "cell_type": "code",
   "execution_count": 29,
   "id": "626110b2-b44c-4eb3-9ea1-e37e58ec00f2",
   "metadata": {},
   "outputs": [
    {
     "name": "stdout",
     "output_type": "stream",
     "text": [
      "5\n"
     ]
    }
   ],
   "source": [
    "def add_and_mul(a,b):\n",
    "    return a+b\n",
    "    return a*b\n",
    "\n",
    "res = add_and_mul(2,3)\n",
    "print(res)    #return 함수는 결과값을 반환하고 함수를 정지한다."
   ]
  },
  {
   "cell_type": "code",
   "execution_count": 31,
   "id": "eaa406dd-ccc0-464b-9dec-155a5a1a05cd",
   "metadata": {},
   "outputs": [
    {
     "name": "stdout",
     "output_type": "stream",
     "text": [
      "나의 별명은 야호 입니다.\n",
      "너는 바보입니다.\n"
     ]
    }
   ],
   "source": [
    "# return의 또 다른 쓰임새\n",
    "def say_nick(nick):\n",
    "    if nick == '바보':\n",
    "        return print(\"너는 바보입니다.\")\n",
    "    print(\"나의 별명은 %s 입니다.\"%nick)\n",
    "\n",
    "say_nick('야호')\n",
    "say_nick('바보')\n",
    "\n",
    "        "
   ]
  },
  {
   "cell_type": "code",
   "execution_count": 37,
   "id": "5e0275d2-4b70-4780-9ce9-8e197a49bbd2",
   "metadata": {},
   "outputs": [
    {
     "name": "stdout",
     "output_type": "stream",
     "text": [
      "나의 이름은 빙승현입니다.\n",
      "나이는 37살입니다.\n",
      "남자입니다.\n"
     ]
    }
   ],
   "source": [
    "# 매개변수에 초기값 설정\n",
    "def say_myself(name,age,man=True):\n",
    "    print(f\"나의 이름은 {name}입니다.\")\n",
    "    print(f\"나이는 {age}살입니다.\")\n",
    "    if man:\n",
    "        print(\"남자입니다.\")\n",
    "    else:\n",
    "        print(\"여자입니다.\")\n",
    "\n",
    "\n",
    "#함수 호출\n",
    "say_myself(\"빙승현\",37,\"man\")\n"
   ]
  },
  {
   "cell_type": "code",
   "execution_count": 49,
   "id": "d6fcb221-f0ec-4ff5-a7ce-459a186e8da3",
   "metadata": {},
   "outputs": [
    {
     "name": "stdout",
     "output_type": "stream",
     "text": [
      "1\n",
      "2\n"
     ]
    }
   ],
   "source": [
    "# 함수 안에서 선언한 변수의 유효 범위 -> 1.return 명령어 사용하기\n",
    "\n",
    "a = 1\n",
    "def vartest(a):\n",
    "    a += 1\n",
    "    return a\n",
    "\n",
    "vartest(a) #아무것도 실행안됨\n",
    "print(a) #함수 밖에있는 a출력됨\n",
    "    \n",
    "a = vartest(a)  #변수에 함수값이 들어가서 되먹임으로 다시 변수에 값이입력됨\n",
    "print(a)"
   ]
  },
  {
   "cell_type": "code",
   "execution_count": 53,
   "id": "1e16f04d-1402-4c84-ac58-5f84733beb88",
   "metadata": {},
   "outputs": [
    {
     "name": "stdout",
     "output_type": "stream",
     "text": [
      "1\n",
      "2\n",
      "3\n",
      "4\n"
     ]
    }
   ],
   "source": [
    "# 함수 안에서 선언한 변수의 유효 범위 -> 2.global 명령어 사용하기\n",
    "a = 1\n",
    "def vartest():\n",
    "    global a # 함수 안에서의 a는 전역변수로 변경\n",
    "    a+= 1\n",
    "    \n",
    "print(a)\n",
    "vartest()\n",
    "print(a)\n",
    "vartest()\n",
    "print(a)\n",
    "vartest()\n",
    "print(a)"
   ]
  },
  {
   "cell_type": "code",
   "execution_count": 54,
   "id": "014cd531-50c6-41a5-b40b-4c15b576853f",
   "metadata": {},
   "outputs": [
    {
     "name": "stdout",
     "output_type": "stream",
     "text": [
      "7\n"
     ]
    }
   ],
   "source": [
    "# Lambda 표현식(예약어) 사용 안하고 함수 선언\n",
    "def add(a,b):\n",
    "    return a+b\n",
    "\n",
    "print(add(3,4))"
   ]
  },
  {
   "cell_type": "code",
   "execution_count": 55,
   "id": "c28726e8-b6f6-4bfc-b9e5-714da81fd542",
   "metadata": {},
   "outputs": [
    {
     "name": "stdout",
     "output_type": "stream",
     "text": [
      "7\n"
     ]
    }
   ],
   "source": [
    "# Lambda 표현식(예약어) 사용하여 표현\n",
    "add = lambda a,b : a+b\n",
    "print(add(3,4))"
   ]
  },
  {
   "cell_type": "markdown",
   "id": "b76b1833-25ee-473d-8cdb-9d6dbfa02737",
   "metadata": {},
   "source": [
    "## 2. 함수의 활용"
   ]
  },
  {
   "cell_type": "markdown",
   "id": "22f92871-df1a-455b-a6ca-ba3e66ed2d31",
   "metadata": {},
   "source": [
    "#### 1) 재귀함수\n",
    ": 내가 만든 함수를 다시 호출하는 것"
   ]
  },
  {
   "cell_type": "code",
   "execution_count": 57,
   "id": "ca6254c0-3647-45e8-b4d7-2d244d2068c7",
   "metadata": {},
   "outputs": [
    {
     "name": "stdout",
     "output_type": "stream",
     "text": [
      "1!: 1\n",
      "2!: 2\n",
      "3!: 6\n",
      "4!: 24\n",
      "5!: 120\n"
     ]
    }
   ],
   "source": [
    "# 반복문으로 팩토리얼 구하기\n",
    "def factorial(n):\n",
    "    output = 1\n",
    "    for i in range(1, n+1):\n",
    "        output *= i\n",
    "    return output\n",
    "\n",
    "print(\"1!:\", factorial(1))\n",
    "print(\"2!:\", factorial(2))\n",
    "print(\"3!:\", factorial(3))\n",
    "print(\"4!:\", factorial(4))\n",
    "print(\"5!:\", factorial(5))"
   ]
  },
  {
   "cell_type": "code",
   "execution_count": 61,
   "id": "fcd38e21-894a-4ab5-9808-7d0962923c2c",
   "metadata": {},
   "outputs": [
    {
     "name": "stdout",
     "output_type": "stream",
     "text": [
      "5!: 120\n",
      "1\n"
     ]
    }
   ],
   "source": [
    "# 재귀 함수로 팩토리얼 구하기\n",
    "def factorial(n):\n",
    "    if n == 0:\n",
    "        return 1\n",
    "    else:\n",
    "        return n * factorial(n-1)\n",
    "\n",
    "print(\"5!:\", factorial(5))\n",
    "\n",
    "print(factorial(0))"
   ]
  },
  {
   "cell_type": "markdown",
   "id": "4e6c3248-1078-4274-aff3-e733d27416e5",
   "metadata": {},
   "source": [
    "#### 2) 리스트 평탄화하는 재귀함수 만들기"
   ]
  },
  {
   "cell_type": "code",
   "execution_count": 65,
   "id": "6dff135e-9649-4be1-978c-c68dfdefa348",
   "metadata": {},
   "outputs": [
    {
     "name": "stdout",
     "output_type": "stream",
     "text": [
      "4\n",
      "원본:  [[1, 2, 3], [4, [5, 6]], 7, [8, 9]]\n",
      "변환:  [1, 2, 3, 4, [5, 6], 7, 8, 9]\n",
      "2차변환:  [1, 2, 3, 4, 5, 6, 7, 8, 9]\n"
     ]
    }
   ],
   "source": [
    "# 반복문으로 리스트 평탄화\n",
    "def flatten(data):\n",
    "    output =[]\n",
    "    for item in data:\n",
    "        if type(item) == list:\n",
    "            output += item\n",
    "        else:\n",
    "            output.append(item)\n",
    "    return output\n",
    "\n",
    "example= [[1,2,3],[4,[5,6]],7,[8,9]]\n",
    "print(len(example))\n",
    "\n",
    "a=flatten(example)\n",
    "\n",
    "print('원본: ', example)\n",
    "print('변환: ', flatten(example))\n",
    "print('2차변환: ',flatten(a))\n"
   ]
  },
  {
   "cell_type": "code",
   "execution_count": 66,
   "id": "b3592446-0931-473c-b39d-552515ffccff",
   "metadata": {},
   "outputs": [
    {
     "name": "stdout",
     "output_type": "stream",
     "text": [
      "4\n",
      "원본:  [[1, 2, 3], [4, [5, 6]], 7, [8, 9]]\n",
      "변환:  [1, 2, 3, 4, 5, 6, 7, 8, 9]\n"
     ]
    }
   ],
   "source": [
    "# 재귀 함수로 리스트 평탄화\n",
    "\n",
    "def flatten(data):\n",
    "    output =[]\n",
    "    for item in data:\n",
    "        if type(item) == list:\n",
    "            output += flatten(item)\n",
    "        else:\n",
    "            output.append(item)\n",
    "    return output\n",
    "\n",
    "example= [[1,2,3],[4,[5,6]],7,[8,9]]\n",
    "print(len(example))\n",
    "\n",
    "print('원본: ', example)\n",
    "print('변환: ', flatten(example))"
   ]
  },
  {
   "cell_type": "code",
   "execution_count": null,
   "id": "71722fe9-be9a-49b8-8f8d-24b95061b5cf",
   "metadata": {},
   "outputs": [],
   "source": []
  }
 ],
 "metadata": {
  "kernelspec": {
   "display_name": "Python [conda env:base] *",
   "language": "python",
   "name": "conda-base-py"
  },
  "language_info": {
   "codemirror_mode": {
    "name": "ipython",
    "version": 3
   },
   "file_extension": ".py",
   "mimetype": "text/x-python",
   "name": "python",
   "nbconvert_exporter": "python",
   "pygments_lexer": "ipython3",
   "version": "3.13.5"
  }
 },
 "nbformat": 4,
 "nbformat_minor": 5
}
