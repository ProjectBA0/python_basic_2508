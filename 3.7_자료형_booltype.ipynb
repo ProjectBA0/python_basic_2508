{
 "cells": [
  {
   "cell_type": "code",
   "execution_count": null,
   "id": "de5fd28d-530e-48b2-8793-26b577797d2a",
   "metadata": {},
   "outputs": [],
   "source": []
  }
 ],
 "metadata": {
  "kernelspec": {
   "display_name": "",
   "name": ""
  },
  "language_info": {
   "name": ""
  }
 },
 "nbformat": 4,
 "nbformat_minor": 5
}
