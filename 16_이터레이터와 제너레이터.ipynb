{
 "cells": [
  {
   "cell_type": "markdown",
   "id": "6bd2d445-5753-42ca-9778-806539cd3101",
   "metadata": {},
   "source": [
    "##  1. 이터레이터란?"
   ]
  },
  {
   "cell_type": "code",
   "execution_count": 1,
   "id": "4edf6ab7-7595-41a9-9fb4-deb2d5113751",
   "metadata": {},
   "outputs": [
    {
     "ename": "TypeError",
     "evalue": "'list' object is not an iterator",
     "output_type": "error",
     "traceback": [
      "\u001b[1;31m---------------------------------------------------------------------------\u001b[0m",
      "\u001b[1;31mTypeError\u001b[0m                                 Traceback (most recent call last)",
      "Cell \u001b[1;32mIn[1], line 2\u001b[0m\n\u001b[0;32m      1\u001b[0m a \u001b[38;5;241m=\u001b[39m [\u001b[38;5;241m1\u001b[39m,\u001b[38;5;241m2\u001b[39m,\u001b[38;5;241m3\u001b[39m]\n\u001b[1;32m----> 2\u001b[0m \u001b[38;5;28mnext\u001b[39m(a)\n",
      "\u001b[1;31mTypeError\u001b[0m: 'list' object is not an iterator"
     ]
    }
   ],
   "source": [
    "a = [1,2,3]\n",
    "next(a)"
   ]
  },
  {
   "cell_type": "code",
   "execution_count": 3,
   "id": "35502228-1111-4aa8-95b1-812949b20658",
   "metadata": {},
   "outputs": [
    {
     "data": {
      "text/plain": [
       "list_iterator"
      ]
     },
     "execution_count": 3,
     "metadata": {},
     "output_type": "execute_result"
    }
   ],
   "source": [
    "# 리스트를 iter()함수로 이터레이터 객체로 변환\n",
    "\n",
    "ia =iter(a)\n",
    "type(ia)"
   ]
  },
  {
   "cell_type": "code",
   "execution_count": 6,
   "id": "29babcc7-afd3-4181-b6de-81f20e49991c",
   "metadata": {},
   "outputs": [
    {
     "data": {
      "text/plain": [
       "3"
      ]
     },
     "execution_count": 6,
     "metadata": {},
     "output_type": "execute_result"
    }
   ],
   "source": [
    "ia= iter(a)\n",
    "next(ia)\n",
    "next(ia)\n",
    "next(ia)"
   ]
  },
  {
   "cell_type": "code",
   "execution_count": null,
   "id": "55702c40-79d2-4c3a-841c-a33866733dec",
   "metadata": {},
   "outputs": [],
   "source": [
    "#전부 꺼내면 stopiteration이 raise 된다."
   ]
  },
  {
   "cell_type": "code",
   "execution_count": 7,
   "id": "890dd2a9-72f8-45b0-abf9-2031f83e7132",
   "metadata": {},
   "outputs": [
    {
     "name": "stdout",
     "output_type": "stream",
     "text": [
      "1\n",
      "2\n",
      "3\n"
     ]
    }
   ],
   "source": [
    "# 이터레이터의 값을 가져오는 일반적인 방법(for문)\n",
    "a =[1,2,3]\n",
    "ia =iter(a)\n",
    "for i in ia:\n",
    "    print(i)"
   ]
  },
  {
   "cell_type": "code",
   "execution_count": 8,
   "id": "fa311bc3-dcd4-4e24-8019-28889a092c2c",
   "metadata": {},
   "outputs": [],
   "source": [
    "#이터레이터 개체는 for문이나 next()로 그 값을 한번 읽으면 다시 읽을수 없음.\n",
    "for i in ia:\n",
    "    print(i)"
   ]
  },
  {
   "cell_type": "code",
   "execution_count": null,
   "id": "b66e3ab4-294a-46f7-83d2-d9b1f0723c3d",
   "metadata": {},
   "outputs": [],
   "source": []
  }
 ],
 "metadata": {
  "kernelspec": {
   "display_name": "Python [conda env:base] *",
   "language": "python",
   "name": "conda-base-py"
  },
  "language_info": {
   "codemirror_mode": {
    "name": "ipython",
    "version": 3
   },
   "file_extension": ".py",
   "mimetype": "text/x-python",
   "name": "python",
   "nbconvert_exporter": "python",
   "pygments_lexer": "ipython3",
   "version": "3.13.5"
  }
 },
 "nbformat": 4,
 "nbformat_minor": 5
}
